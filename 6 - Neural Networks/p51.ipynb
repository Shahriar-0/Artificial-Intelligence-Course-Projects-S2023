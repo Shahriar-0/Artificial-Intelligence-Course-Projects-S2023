{
 "cells": [
  {
   "attachments": {},
   "cell_type": "markdown",
   "id": "37fe75cd",
   "metadata": {},
   "source": [
    "# MLP from scratch"
   ]
  },
  {
   "attachments": {},
   "cell_type": "markdown",
   "id": "b1cedbba",
   "metadata": {},
   "source": [
    "In this homework, you will code a [Multilayer perceptron](https://en.wikipedia.org/wiki/Multilayer_perceptron) with one hidden layer to classify text data.\n",
    "\n",
    "Advice:\n",
    "- As much as possible, please try to make matrix and vector operations (good practice for efficient code)\n",
    "- If you're not familiar with numpy, check the documentation of `np.max`, `np.clip`, `np.random.randn`, `np.reshape`. FYI the matrix multiplication operator is `@`, and you may want to learn about [broadcasting rules](https://numpy.org/doc/stable/user/basics.broadcasting.html) to see how it deals with tensor operations of different sizes\n",
    "- You can also check about `torch.clamp`, `torch.nn.Parameter`\n",
    "\n",
    "## 1. Some utilities and dataset for Part 2"
   ]
  },
  {
   "cell_type": "code",
   "execution_count": 2,
   "id": "16564b94",
   "metadata": {},
   "outputs": [],
   "source": [
    "import plygdata as pg\n",
    "import numpy as np\n",
    "data_array = np.array(pg.generate_data(pg.DatasetType.ClassifySpiralData, 0.0))\n",
    "X = data_array[:,:-1]\n",
    "Y = data_array[:,-1]\n",
    "Y = (Y + 1)/2\n"
   ]
  },
  {
   "cell_type": "code",
   "execution_count": 3,
   "id": "94073098",
   "metadata": {},
   "outputs": [
    {
     "data": {
      "image/png": "[encoded data removed]",
      "text/plain": [
       "<Figure size 700x700 with 1 Axes>"
      ]
     },
     "metadata": {},
     "output_type": "display_data"
    }
   ],
   "source": [
    "import numpy as np\n",
    "import matplotlib.pyplot as plt\n",
    "import pandas as pd\n",
    "\n",
    "# Plot the dataset\n",
    "def plot_data(ax, X, Y):\n",
    "    plt.axis('off')\n",
    "    ax.scatter(X[:, 0], X[:, 1], s=1, c=Y, cmap='bone')\n",
    "\n",
    "from sklearn.datasets import make_moons, make_circles, make_classification\n",
    "# X, Y = make_moons(n_samples=2000, noise=0.1)\n",
    "#X, Y = make_circles(n_samples=2000, noise=0.0)\n",
    "#X, Y = make_classification(n_samples=4000, n_features=2, n_informative=2, n_redundant=0, n_repeated=0)\n",
    "%matplotlib inline\n",
    "x_min, x_max = -1.5, 2.5\n",
    "y_min, y_max = -1, 1.5\n",
    "#x_min, x_max = -10, 10\n",
    "#y_min, y_max = -10, 10\n",
    "fig, ax = plt.subplots(1, 1, facecolor='#4B6EA9', figsize=(7, 7))\n",
    "ax.set_xlim(x_min, x_max)\n",
    "ax.set_ylim(y_min, y_max)\n",
    "plot_data(ax, X, Y)\n",
    "plt.show()"
   ]
  },
  {
   "cell_type": "code",
   "execution_count": 4,
   "id": "5755e2ba",
   "metadata": {},
   "outputs": [],
   "source": [
    "# Define the grid on which we will evaluate our classifier\n",
    "xx, yy = np.meshgrid(np.arange(x_min, x_max, .1),\n",
    "                     np.arange(y_min, y_max, .1))\n",
    "\n",
    "to_forward = np.array(list(zip(xx.ravel(), yy.ravel())))\n",
    "\n",
    "# plot the decision boundary of our classifier\n",
    "def plot_decision_boundary(ax, X, Y, classifier):\n",
    "    # forward pass on the grid, then convert to numpy for plotting\n",
    "    #X = X.reshape((-1, 2, 1))\n",
    "    Z = classifier.forward(to_forward.T)\n",
    "    Z = Z.reshape(xx.shape)\n",
    "    \n",
    "    # plot contour lines of the values of our classifier on the grid\n",
    "    ax.contourf(xx, yy, Z>0.5, cmap='Blues')\n",
    "    \n",
    "    # then plot the dataset\n",
    "    plot_data(ax, X,Y)"
   ]
  },
  {
   "attachments": {},
   "cell_type": "markdown",
   "id": "1a524868",
   "metadata": {},
   "source": [
    "## 2. MLP in numpy\n",
    "\n",
    "Here you need to code your implementation of the [ReLU](https://en.wikipedia.org/wiki/Rectifier_(neural_networks)) activation and the [Sigmoid](https://en.wikipedia.org/wiki/Sigmoid_function)."
   ]
  },
  {
   "cell_type": "code",
   "execution_count": 5,
   "id": "d8a14b07",
   "metadata": {},
   "outputs": [],
   "source": [
    "class MyReLU(object):\n",
    "    def forward(self, x):\n",
    "        self.out = np.maximum(x, 0)\n",
    "        return self.out\n",
    "        \n",
    "    def backward(self, grad_output):\n",
    "        return np.where(self.out > 0, grad_output, 0)\n",
    "    \n",
    "    def step(self, learning_rate):\n",
    "        pass\n",
    "\n",
    "class MySigmoid(object):\n",
    "    def forward(self, x):\n",
    "        self.out = np.reciprocal(1 + np.exp(-x))\n",
    "        return self.out\n",
    "    \n",
    "    def backward(self, grad_output):\n",
    "        return grad_output * self.out * (1 - self.out)\n",
    "    \n",
    "    def step(self, learning_rate):\n",
    "        pass"
   ]
  },
  {
   "attachments": {},
   "cell_type": "markdown",
   "metadata": {},
   "source": [
    "Probably a good time to test your functions..."
   ]
  },
  {
   "cell_type": "code",
   "execution_count": 6,
   "id": "6bee5c43",
   "metadata": {},
   "outputs": [
    {
     "data": {
      "text/plain": [
       "array([0. , 0. , 0.5, 0. , 0.8, 1. ])"
      ]
     },
     "execution_count": 6,
     "metadata": {},
     "output_type": "execute_result"
    }
   ],
   "source": [
    "test_relu = MyReLU()\n",
    "test_relu.forward([0, -1, 0.5, -0.5, 0.8, 1])"
   ]
  },
  {
   "cell_type": "code",
   "execution_count": 7,
   "id": "a55b3cfe",
   "metadata": {},
   "outputs": [
    {
     "data": {
      "text/plain": [
       "array([0., 0., 1., 0., 1., 1.])"
      ]
     },
     "execution_count": 7,
     "metadata": {},
     "output_type": "execute_result"
    }
   ],
   "source": [
    "test_relu.backward(np.ones(1))"
   ]
  },
  {
   "cell_type": "code",
   "execution_count": 8,
   "id": "fa1accfc",
   "metadata": {},
   "outputs": [
    {
     "data": {
      "text/plain": [
       "array([0.73105858])"
      ]
     },
     "execution_count": 8,
     "metadata": {},
     "output_type": "execute_result"
    }
   ],
   "source": [
    "test_sig = MySigmoid()\n",
    "\n",
    "test_sig.forward(np.ones(1))"
   ]
  },
  {
   "cell_type": "code",
   "execution_count": 9,
   "id": "185e150a",
   "metadata": {},
   "outputs": [
    {
     "data": {
      "text/plain": [
       "array([0.19661193])"
      ]
     },
     "execution_count": 9,
     "metadata": {},
     "output_type": "execute_result"
    }
   ],
   "source": [
    "test_sig.backward(np.ones(1))"
   ]
  },
  {
   "attachments": {},
   "cell_type": "markdown",
   "metadata": {},
   "source": [
    "A bit more complicated, you need now to implement your linear layer i.e. multiplication by a matrix W and summing with a bias b."
   ]
  },
  {
   "attachments": {},
   "cell_type": "markdown",
   "id": "3208a64d",
   "metadata": {},
   "source": [
    "$$ y_i = \\sum_j W_{i,j} x_j + b_i  \\\\\n",
    "         d y_i / d W_{i, j} = x_j \\\\\n",
    "         d loss / d y_i = grad_output[i] \\\\\n",
    "         so \\ d loss / d W_{i,j} = x_j *  gradoutput[i]  (by the chain rule) \\\\\n",
    "          d loss / d x_j = \\sum_i (d loss / d y_i) (d y_i / d x_j) $$"
   ]
  },
  {
   "cell_type": "code",
   "execution_count": 10,
   "id": "62c8324c",
   "metadata": {},
   "outputs": [],
   "source": [
    "class MyLinear(object):\n",
    "    def __init__(self, n_input, n_output):\n",
    "        self.weights = np.random.randn(n_output, n_input)\n",
    "        self.bias = np.random.randn(n_output, 1)\n",
    "\n",
    "    def forward(self, x):\n",
    "        self.input = x\n",
    "        return self.weights @ x + self.bias\n",
    "    \n",
    "    def backward(self, grad_output):\n",
    "        self.grad_weights = grad_output @ self.input.T\n",
    "        self.grad_bias = np.sum(grad_output, axis=1, keepdims=True)\n",
    "\n",
    "        grad_input = self.weights.T @ grad_output\n",
    "        return grad_input\n",
    "    \n",
    "    def step(self, learning_rate):\n",
    "        self.weights -= learning_rate * self.grad_weights\n",
    "        self.bias -= learning_rate * self.grad_bias"
   ]
  },
  {
   "attachments": {},
   "cell_type": "markdown",
   "id": "488d62d9",
   "metadata": {},
   "source": [
    "Code your network. Note that with a Sigmoid layer, you should use the Binary Cross Entropy (BCE) loss."
   ]
  },
  {
   "cell_type": "code",
   "execution_count": 11,
   "id": "991116e9",
   "metadata": {},
   "outputs": [],
   "source": [
    "class Sequential(object):\n",
    "    def __init__(self):\n",
    "        self.layers = [\n",
    "            MyLinear(2, 10),\n",
    "            MyReLU(),\n",
    "            MyLinear(10, 10),\n",
    "            MyReLU(),\n",
    "            MyLinear(10, 10),\n",
    "            MyReLU(),\n",
    "            MyLinear(10, 10),\n",
    "            MyReLU(),\n",
    "            MyLinear(10, 1),\n",
    "            MySigmoid()\n",
    "        ]\n",
    "        \n",
    "    def forward(self, x):\n",
    "        cur_out = x\n",
    "        for layer in self.layers:\n",
    "            cur_out = layer.forward(cur_out)\n",
    "        return cur_out\n",
    "        \n",
    "    def compute_loss(self, out, label):\n",
    "        if out == 0:\n",
    "            out = 1e-10\n",
    "        elif out == 1:\n",
    "            out = out - 1e-10\n",
    "        loss = -(label * np.log(out) + (1-label) * np.log(1-out))\n",
    "        self.grad_output = (out - label)/(out*(1 - out))\n",
    "        return loss\n",
    "\n",
    "    def backward(self):\n",
    "        cur_grad = self.grad_output\n",
    "        for layer in reversed(self.layers):\n",
    "            cur_grad = layer.backward(cur_grad)\n",
    "    \n",
    "    def step(self, learning_rate):\n",
    "        for layer in self.layers:\n",
    "            layer.step(learning_rate)"
   ]
  },
  {
   "cell_type": "code",
   "execution_count": 12,
   "id": "917fe7f8",
   "metadata": {},
   "outputs": [],
   "source": [
    "model = Sequential()"
   ]
  },
  {
   "cell_type": "code",
   "execution_count": 13,
   "id": "3086717d",
   "metadata": {},
   "outputs": [],
   "source": [
    "losses = []\n",
    "learning_rate = 1e-2\n",
    "epochs = 10\n",
    "for epoch in range(epochs):\n",
    "    loss_sum = 0 \n",
    "    for it in range(len(X)):\n",
    "        idx = np.random.randint(0, len(X))\n",
    "        x = X[idx]\n",
    "        x = x.reshape(2, 1)\n",
    "        label = Y[idx]\n",
    "        out = model.forward(x)\n",
    "        loss_sum += model.compute_loss(out, label)\n",
    "        model.backward()\n",
    "        model.step(learning_rate)\n",
    "    losses.append(loss_sum)\n"
   ]
  },
  {
   "cell_type": "code",
   "execution_count": 14,
   "id": "bbbba4bb",
   "metadata": {},
   "outputs": [
    {
     "data": {
      "image/png": "[encoded data removed]",
      "text/plain": [
       "<Figure size 640x480 with 1 Axes>"
      ]
     },
     "metadata": {},
     "output_type": "display_data"
    }
   ],
   "source": [
    "losses = np.array(losses)\n",
    "losses = losses.reshape((-1, 1))\n",
    "%matplotlib inline\n",
    "plt.plot(losses)\n",
    "plt.show()"
   ]
  },
  {
   "cell_type": "code",
   "execution_count": 15,
   "id": "4d10dc2d",
   "metadata": {},
   "outputs": [
    {
     "data": {
      "image/png": "[encoded data removed]",
      "text/plain": [
       "<Figure size 640x480 with 1 Axes>"
      ]
     },
     "metadata": {},
     "output_type": "display_data"
    }
   ],
   "source": [
    "fig, ax = plt.subplots(1, 1, facecolor='#4B6EA9')\n",
    "ax.set_xlim(x_min, x_max)\n",
    "ax.set_ylim(y_min, y_max)\n",
    "plot_decision_boundary(ax, X, Y, model)\n",
    "fig.canvas.draw()"
   ]
  },
  {
   "attachments": {},
   "cell_type": "markdown",
   "metadata": {},
   "source": [
    "## 3. Using a Pytorch module\n",
    "\n",
    "In this last part, use `toch.nn.Module` to recode `MyLinear` and `MyReLU` so that these modules will be pytorch compatible."
   ]
  },
  {
   "attachments": {},
   "cell_type": "markdown",
   "id": "812c01bb",
   "metadata": {},
   "source": [
    "## 3.1. Load & Preprocess the IMDB Dataset\n",
    "\n",
    "In this section, you are required to read and load the provided `csv` file, and perform the preprocessing steps as specified in the assignment's description."
   ]
  },
  {
   "cell_type": "code",
   "execution_count": 2,
   "id": "ec1d802f",
   "metadata": {},
   "outputs": [],
   "source": [
    "import pandas as pd\n",
    "import numpy as np\n",
    "\n",
    "data = pd.read_csv(\"assets/data/imdb_dataset.csv\")"
   ]
  },
  {
   "cell_type": "code",
   "execution_count": 3,
   "id": "7207f3a1",
   "metadata": {},
   "outputs": [
    {
     "data": {
      "text/html": [
       "<div>\n",
       "<style scoped>\n",
       "    .dataframe tbody tr th:only-of-type {\n",
       "        vertical-align: middle;\n",
       "    }\n",
       "\n",
       "    .dataframe tbody tr th {\n",
       "        vertical-align: top;\n",
       "    }\n",
       "\n",
       "    .dataframe thead th {\n",
       "        text-align: right;\n",
       "    }\n",
       "</style>\n",
       "<table border=\"1\" class=\"dataframe\">\n",
       "  <thead>\n",
       "    <tr style=\"text-align: right;\">\n",
       "      <th></th>\n",
       "      <th>review</th>\n",
       "      <th>sentiment</th>\n",
       "    </tr>\n",
       "  </thead>\n",
       "  <tbody>\n",
       "    <tr>\n",
       "      <th>0</th>\n",
       "      <td>One of the other reviewers has mentioned that ...</td>\n",
       "      <td>positive</td>\n",
       "    </tr>\n",
       "    <tr>\n",
       "      <th>1</th>\n",
       "      <td>A wonderful little production. &lt;br /&gt;&lt;br /&gt;The...</td>\n",
       "      <td>positive</td>\n",
       "    </tr>\n",
       "    <tr>\n",
       "      <th>2</th>\n",
       "      <td>I thought this was a wonderful way to spend ti...</td>\n",
       "      <td>positive</td>\n",
       "    </tr>\n",
       "    <tr>\n",
       "      <th>3</th>\n",
       "      <td>Basically there's a family where a little boy ...</td>\n",
       "      <td>negative</td>\n",
       "    </tr>\n",
       "    <tr>\n",
       "      <th>4</th>\n",
       "      <td>Petter Mattei's \"Love in the Time of Money\" is...</td>\n",
       "      <td>positive</td>\n",
       "    </tr>\n",
       "    <tr>\n",
       "      <th>5</th>\n",
       "      <td>Probably my all-time favorite movie, a story o...</td>\n",
       "      <td>positive</td>\n",
       "    </tr>\n",
       "    <tr>\n",
       "      <th>6</th>\n",
       "      <td>I sure would like to see a resurrection of a u...</td>\n",
       "      <td>positive</td>\n",
       "    </tr>\n",
       "    <tr>\n",
       "      <th>7</th>\n",
       "      <td>This show was an amazing, fresh &amp; innovative i...</td>\n",
       "      <td>negative</td>\n",
       "    </tr>\n",
       "    <tr>\n",
       "      <th>8</th>\n",
       "      <td>Encouraged by the positive comments about this...</td>\n",
       "      <td>negative</td>\n",
       "    </tr>\n",
       "    <tr>\n",
       "      <th>9</th>\n",
       "      <td>If you like original gut wrenching laughter yo...</td>\n",
       "      <td>positive</td>\n",
       "    </tr>\n",
       "  </tbody>\n",
       "</table>\n",
       "</div>"
      ],
      "text/plain": [
       "                                              review sentiment\n",
       "0  One of the other reviewers has mentioned that ...  positive\n",
       "1  A wonderful little production. <br /><br />The...  positive\n",
       "2  I thought this was a wonderful way to spend ti...  positive\n",
       "3  Basically there's a family where a little boy ...  negative\n",
       "4  Petter Mattei's \"Love in the Time of Money\" is...  positive\n",
       "5  Probably my all-time favorite movie, a story o...  positive\n",
       "6  I sure would like to see a resurrection of a u...  positive\n",
       "7  This show was an amazing, fresh & innovative i...  negative\n",
       "8  Encouraged by the positive comments about this...  negative\n",
       "9  If you like original gut wrenching laughter yo...  positive"
      ]
     },
     "execution_count": 3,
     "metadata": {},
     "output_type": "execute_result"
    }
   ],
   "source": [
    "data.head(10)"
   ]
  },
  {
   "cell_type": "code",
   "execution_count": 4,
   "id": "e068c9eb",
   "metadata": {},
   "outputs": [
    {
     "name": "stdout",
     "output_type": "stream",
     "text": [
      "<class 'pandas.core.frame.DataFrame'>\n",
      "RangeIndex: 50000 entries, 0 to 49999\n",
      "Data columns (total 2 columns):\n",
      " #   Column     Non-Null Count  Dtype \n",
      "---  ------     --------------  ----- \n",
      " 0   review     50000 non-null  object\n",
      " 1   sentiment  50000 non-null  object\n",
      "dtypes: object(2)\n",
      "memory usage: 781.4+ KB\n"
     ]
    }
   ],
   "source": [
    "data.info()"
   ]
  },
  {
   "cell_type": "code",
   "execution_count": 5,
   "id": "ceedf179",
   "metadata": {},
   "outputs": [
    {
     "data": {
      "text/html": [
       "<div>\n",
       "<style scoped>\n",
       "    .dataframe tbody tr th:only-of-type {\n",
       "        vertical-align: middle;\n",
       "    }\n",
       "\n",
       "    .dataframe tbody tr th {\n",
       "        vertical-align: top;\n",
       "    }\n",
       "\n",
       "    .dataframe thead th {\n",
       "        text-align: right;\n",
       "    }\n",
       "</style>\n",
       "<table border=\"1\" class=\"dataframe\">\n",
       "  <thead>\n",
       "    <tr style=\"text-align: right;\">\n",
       "      <th></th>\n",
       "      <th>review</th>\n",
       "      <th>sentiment</th>\n",
       "    </tr>\n",
       "  </thead>\n",
       "  <tbody>\n",
       "    <tr>\n",
       "      <th>count</th>\n",
       "      <td>50000</td>\n",
       "      <td>50000</td>\n",
       "    </tr>\n",
       "    <tr>\n",
       "      <th>unique</th>\n",
       "      <td>49582</td>\n",
       "      <td>2</td>\n",
       "    </tr>\n",
       "    <tr>\n",
       "      <th>top</th>\n",
       "      <td>Loved today's show!!! It was a variety and not...</td>\n",
       "      <td>positive</td>\n",
       "    </tr>\n",
       "    <tr>\n",
       "      <th>freq</th>\n",
       "      <td>5</td>\n",
       "      <td>25000</td>\n",
       "    </tr>\n",
       "  </tbody>\n",
       "</table>\n",
       "</div>"
      ],
      "text/plain": [
       "                                                   review sentiment\n",
       "count                                               50000     50000\n",
       "unique                                              49582         2\n",
       "top     Loved today's show!!! It was a variety and not...  positive\n",
       "freq                                                    5     25000"
      ]
     },
     "execution_count": 5,
     "metadata": {},
     "output_type": "execute_result"
    }
   ],
   "source": [
    "data.describe()"
   ]
  },
  {
   "cell_type": "code",
   "execution_count": 6,
   "id": "b72582d6",
   "metadata": {},
   "outputs": [],
   "source": [
    "from sklearn.preprocessing import LabelEncoder\n",
    "\n",
    "le = LabelEncoder()\n",
    "data[\"sentiment\"] = le.fit_transform(data[\"sentiment\"])"
   ]
  },
  {
   "cell_type": "code",
   "execution_count": 7,
   "id": "c1f2decf",
   "metadata": {},
   "outputs": [
    {
     "data": {
      "text/plain": [
       "0        1\n",
       "1        1\n",
       "2        1\n",
       "3        0\n",
       "4        1\n",
       "        ..\n",
       "49995    1\n",
       "49996    0\n",
       "49997    0\n",
       "49998    0\n",
       "49999    0\n",
       "Name: sentiment, Length: 50000, dtype: int32"
      ]
     },
     "execution_count": 7,
     "metadata": {},
     "output_type": "execute_result"
    }
   ],
   "source": [
    "data[\"sentiment\"]"
   ]
  },
  {
   "cell_type": "code",
   "execution_count": 8,
   "id": "9f13a822",
   "metadata": {},
   "outputs": [],
   "source": [
    "from sklearn.model_selection import train_test_split\n",
    "X_train, X_test, y_train, y_test = train_test_split(data['review'], data['sentiment'], test_size=0.2)"
   ]
  },
  {
   "cell_type": "code",
   "execution_count": 9,
   "id": "d39ced5d",
   "metadata": {},
   "outputs": [
    {
     "name": "stdout",
     "output_type": "stream",
     "text": [
      "positive review:\n",
      "After \"Attack of the Fifty Foot Woman\" with Alison Hayes opened the doors for women to be just as dangerous as men, there was obviously an open market for other movies to pick up and carry the torch and what more a lovely actress than Dorothy Provine from \"It's A Mad, Mad, Mad, Mad World\" to play the role. The downsize is that cute and blonde Provine may just be too sweet and innocent looking to step into Allison Hayes' size 50 shoes. This role really needed someone with an amount of smoldering sex appeal; Provine is more the girl next door type. She may have taken and done this role to prove she could be sexy, but the material lets her down. Lou Costello, however, proves he can do a movie without Bud Abbott feeding him lines and he even interjects a dramatic role in some of his scenes when he not turning to Gale Gordon as his front man for gags. Gordon, however, establishes that all he can be is blustery, perturbed and pushy, much the same character he creates later on \"The Lucy Show.\" Charles Lane also plays the same role in everything he does: a straight man, and his screen time is limited. The special effects are convincing for the time, but I would have liked Dorothy to have been a little more than cheesecake and dressing and at least have been allowed to become dangerous. As the movie's lead character, she takes second billing to Costello who is in all of the movie with Dorothy several times vanishing like a sub-plot. The whole movie put together just can't decide if it's supposed to be science fiction, a comedy or just a parody of the Allison Hayes classic. There's a lot of good scenes, some very funny humor and some very ridiculous camp that affects the rest of the film. Still, I do like this movie for it's empowerment of women; there's not enough movies out there like this one. If this movie had a chance to be remade today, I'd highly recommend Courtney Cox and Jason Alexander in the lead roles and allow me to completely re-write the original script. Courtney tops my lists of actresses who I believe could and should adequately play gorgeous giantesses; although, I have to admit that if either of the titanic beauties Allison or Dorothy came after me, I'd go quietly !!\n",
      "negative review:\n",
      "Yes, in this movie you are treated to multiple little snowmen on the attack in apparently a very warm climate so yes this movie is definitely not to be taken seriously. It is in fact a much worse movie than the original as at least with that one the whole production looked like it cost more than a couple of bucks and a video camera to make. It has its funny moments, but really playing off the cheapness of your movie and making that be your intended laughs is kind of weak film making if you ask me. You can not come up with a good story, your effects are going to really be bad, hey let us just make the movie look as bad as possible with horrible one liners and we have our movie. The first one at least had a somewhat credible story as the snowman in that one attacked during the winter and not what amounts to a resort. It also had better effects too, this one is just a step or two ahead of \"Hobgoblins\" as far as the monsters are concerned and you really want to be more than a step a two above a bunch of hand puppets. Still, it makes up for all of this with a super ending that depicts a great sea vessel being taken out by the mighty frost. Actually, I am just kidding, but really it was the funniest part of the movie.\n"
     ]
    }
   ],
   "source": [
    "positive_train_reviews = np.array(X_train[y_train == 1])\n",
    "negative_train_reviews = np.array(X_train[y_train == 0])\n",
    "print(\"positive review:\")\n",
    "print(positive_train_reviews[np.random.randint(0, len(positive_train_reviews))])\n",
    "print(\"negative review:\")\n",
    "print(negative_train_reviews[np.random.randint(0, len(negative_train_reviews))])"
   ]
  },
  {
   "cell_type": "code",
   "execution_count": 10,
   "id": "3213d26a",
   "metadata": {},
   "outputs": [
    {
     "name": "stdout",
     "output_type": "stream",
     "text": [
      "positive review:\n",
      "This is an interesting, hard to find movie from the early 70's starring Jan Michael Vincent as a young man who doesn't make the cut as a marine. Dressed in 'baby blue' outfits to humiliate them as they are sent home, the failed recruits are sent packing. Vincent stops at a bar and runs into a very young Richard Gere who has just returned from a tour in the Pacific as a hard-core Marine 'Raider'. Gere's character is already jaded and contemplating desertion, and he takes advantage of Vincent's innocence, stealing his 'baby blue' uniform after getting him drunk and beating him in an alleyway. Vincent's character, whose name is Marion, takes Gere's outfit and is suddenly transformed into a Marine 'Raider'. Marion hitch-hikes his way into Wyoming and stops at a little Norman Rockwell-like little town. In the local café he meets Rose Hudkins, who immediately catches his eye. Staying with Hudkins parents, Marion attracts all sorts of attention from the towns folks. Mr Hudkins suspects Marion and wonders how a Marine 'Raider' could still be so innocent. The story also brings up the Japanese Internment Camps, as the towns folks go 'hunting' 3 escapees. Marion is shot accidentally during this hunt. But there's still a happy ending, which befuddled me a bit. I would have preferred a little more drama! Anyway, this captures JMV at the peak of his 70's performances. BUSTER AND BILLIE, BABY BLUE MARINE and WHITE LINE FEVER in the mid-70's were amazingly good JMV performances. He was both an action star and a heart-throb all at the same time!!! He made a lot of quality movies during his career, and continued to do so up into the mid 80's with the great TV show Airwolf. He does a very good job in this as 'Hedge', quietly observing the way people treat him (in his uniform) as he travels across the country. He must have performed some of the stunt work as well- there is a harrowing river scene at the end of the movie-and it looks like he's the guy getting tossed down the river to me! But really, at the height of his popularity, this movie could have done so much more with JMV's talent and his looks. Innocence can only be so interesting. Evil, as explored in \"Buster and Billie\", is much more dramatic! Anyway, Glynnis O'Connor is delightful as Rose. The whole look of the movie is like a Norman Rockwell painting. The outdoor scenes are gorgeous - must have been filmed in Canada.\n",
      "negative review:\n",
      "This one acts as a satire during the women's rights movement era. Of course, that doesn't mean COACH (the movie) is a wonderful experience to behold. It runs into the same vein as FASTBREAK (which was better, but still tame), and is basically standard fare fluff. What I mean for this movie being uninteresting is simple to recognize. Anybody who serves time away from a normal job by training a bunch of lunatics earning their way to sudden victory makes waste. It's the same feeling you may get after watching this. A nice attempt at casting the opposite sex for a man's duty, but I expected better things.\n"
     ]
    }
   ],
   "source": [
    "positive_train_reviews = np.array(X_test[y_test == 1])\n",
    "negative_train_reviews = np.array(X_test[y_test == 0])\n",
    "print(\"positive review:\")\n",
    "print(positive_train_reviews[np.random.randint(0, len(positive_train_reviews))])\n",
    "print(\"negative review:\")\n",
    "print(negative_train_reviews[np.random.randint(0, len(negative_train_reviews))])"
   ]
  },
  {
   "cell_type": "code",
   "execution_count": 11,
   "id": "19379855",
   "metadata": {},
   "outputs": [
    {
     "data": {
      "image/png": "[encoded data removed]",
      "text/plain": [
       "<Figure size 800x800 with 1 Axes>"
      ]
     },
     "metadata": {},
     "output_type": "display_data"
    }
   ],
   "source": [
    "import matplotlib.pyplot as plt\n",
    "train_counts = y_train.value_counts()\n",
    "test_counts = y_test.value_counts()\n",
    "fig, ax = plt.subplots()\n",
    "train_counts.plot.bar(ax=ax, color='blue', alpha=0.5, width=0.4, position=0, label='Train', figsize=(8, 8))\n",
    "test_counts.plot.bar(ax=ax, color='green', alpha=0.5, width=0.4, position=1, label='Test')\n",
    "ax.set_title('Number of negative and positive reviews')\n",
    "ax.set_xlabel('Sentiment')\n",
    "ax.set_ylabel('Count')\n",
    "ax.legend()\n",
    "plt.show()"
   ]
  },
  {
   "cell_type": "code",
   "execution_count": 12,
   "id": "1a5c2e5a",
   "metadata": {},
   "outputs": [
    {
     "name": "stderr",
     "output_type": "stream",
     "text": [
      "[nltk_data] Downloading package punkt to\n",
      "[nltk_data]     C:\\Users\\Shahriar\\AppData\\Roaming\\nltk_data...\n",
      "[nltk_data]   Package punkt is already up-to-date!\n",
      "[nltk_data] Downloading package wordnet to\n",
      "[nltk_data]     C:\\Users\\Shahriar\\AppData\\Roaming\\nltk_data...\n",
      "[nltk_data]   Package wordnet is already up-to-date!\n",
      "c:\\Users\\Shahriar\\AppData\\Local\\Programs\\Python\\Python311\\Lib\\site-packages\\sklearn\\feature_extraction\\text.py:528: UserWarning: The parameter 'token_pattern' will not be used since 'tokenizer' is not None'\n",
      "  warnings.warn(\n"
     ]
    }
   ],
   "source": [
    "from sklearn.feature_extraction.text import TfidfVectorizer\n",
    "from sklearn.metrics.pairwise import linear_kernel\n",
    "from nltk import word_tokenize          \n",
    "from nltk.stem import WordNetLemmatizer\n",
    "import nltk\n",
    "from nltk.corpus import stopwords\n",
    "\n",
    "# Download stopwords list\n",
    "nltk.download('punkt')\n",
    "nltk.download('wordnet')\n",
    "stop_words = set(stopwords.words('english')) \n",
    "\n",
    "# Interface lemma tokenizer from nltk with sklearn\n",
    "class LemmaTokenizer:\n",
    "    ignore_tokens = [',', '.', ';', ':', '\"', '``', \"''\", '`']\n",
    "    def __init__(self):\n",
    "        self.wnl = WordNetLemmatizer()\n",
    "    def __call__(self, doc):\n",
    "        return [self.wnl.lemmatize(t) for t in word_tokenize(doc) if t not in self.ignore_tokens]\n",
    "\n",
    "# Lemmatize the stop words\n",
    "tokenizer=LemmaTokenizer()\n",
    "token_stop = tokenizer(' '.join(stop_words))\n",
    "\n",
    "# Create TF-idf model\n",
    "vectorizer = TfidfVectorizer(max_features=3000,stop_words=token_stop, \n",
    "                              tokenizer=tokenizer)\n",
    "vectorizer.fit(X_train.values)\n",
    "X_train_vec = vectorizer.transform(X_train.values)\n",
    "X_test_vec = vectorizer.transform(X_test.values)\n",
    "#features = vectorizer.fit_transform(data[\"review\"])"
   ]
  },
  {
   "cell_type": "code",
   "execution_count": 13,
   "id": "d8fafadd",
   "metadata": {},
   "outputs": [
    {
     "data": {
      "text/plain": [
       "True"
      ]
     },
     "execution_count": 13,
     "metadata": {},
     "output_type": "execute_result"
    }
   ],
   "source": [
    "(X_train_vec.min() >= 0 and X_train_vec.max() <= 1) and (X_test_vec.min() >= 0 and X_test_vec.max() <= 1)"
   ]
  },
  {
   "cell_type": "code",
   "execution_count": 14,
   "id": "fc617e13",
   "metadata": {},
   "outputs": [
    {
     "name": "stderr",
     "output_type": "stream",
     "text": [
      "c:\\Users\\Shahriar\\AppData\\Local\\Programs\\Python\\Python311\\Lib\\site-packages\\keras\\optimizers\\legacy\\gradient_descent.py:114: UserWarning: The `lr` argument is deprecated, use `learning_rate` instead.\n",
      "  super().__init__(name, **kwargs)\n"
     ]
    }
   ],
   "source": [
    "from tensorflow import keras\n",
    "from keras import models, layers, optimizers\n",
    "\n",
    "model = models.Sequential()\n",
    "NEURONS = 128\n",
    "model.add(layers.Dense(NEURONS, activation='relu', input_shape=(3000,)))\n",
    "model.add(layers.Dense(NEURONS, activation='relu'))\n",
    "model.add(layers.Dense(NEURONS, activation='relu'))\n",
    "model.add(layers.Dense(1, activation='sigmoid'))\n",
    "\n",
    "optimizer = optimizers.SGD(lr=0.1)\n",
    "\n",
    "model.compile(optimizer=optimizer,\n",
    "              loss='binary_crossentropy',\n",
    "              metrics=['accuracy'])\n"
   ]
  },
  {
   "cell_type": "code",
   "execution_count": 15,
   "id": "3836ff66",
   "metadata": {},
   "outputs": [
    {
     "name": "stdout",
     "output_type": "stream",
     "text": [
      "Epoch 1/20\n",
      "313/313 [==============================] - 3s 9ms/step - loss: 0.6877 - accuracy: 0.5763 - val_loss: 0.6728 - val_accuracy: 0.7244\n",
      "Epoch 2/20\n",
      "313/313 [==============================] - 2s 8ms/step - loss: 0.5910 - accuracy: 0.7336 - val_loss: 0.5602 - val_accuracy: 0.6839\n",
      "Epoch 3/20\n",
      "313/313 [==============================] - 3s 9ms/step - loss: 0.4551 - accuracy: 0.7793 - val_loss: 0.5370 - val_accuracy: 0.7257\n",
      "Epoch 4/20\n",
      "313/313 [==============================] - 2s 8ms/step - loss: 0.3806 - accuracy: 0.8277 - val_loss: 0.3470 - val_accuracy: 0.8511\n",
      "Epoch 5/20\n",
      "313/313 [==============================] - 2s 7ms/step - loss: 0.3402 - accuracy: 0.8517 - val_loss: 0.3327 - val_accuracy: 0.8565\n",
      "Epoch 6/20\n",
      "313/313 [==============================] - 3s 8ms/step - loss: 0.3092 - accuracy: 0.8688 - val_loss: 0.4180 - val_accuracy: 0.8135\n",
      "Epoch 7/20\n",
      "313/313 [==============================] - 3s 8ms/step - loss: 0.2985 - accuracy: 0.8721 - val_loss: 0.3476 - val_accuracy: 0.8516\n",
      "Epoch 8/20\n",
      "313/313 [==============================] - 3s 9ms/step - loss: 0.2899 - accuracy: 0.8788 - val_loss: 0.3244 - val_accuracy: 0.8621\n",
      "Epoch 9/20\n",
      "313/313 [==============================] - 3s 8ms/step - loss: 0.2769 - accuracy: 0.8834 - val_loss: 0.2843 - val_accuracy: 0.8805\n",
      "Epoch 10/20\n",
      "313/313 [==============================] - 3s 8ms/step - loss: 0.2668 - accuracy: 0.8889 - val_loss: 0.2844 - val_accuracy: 0.8829\n",
      "Epoch 11/20\n",
      "313/313 [==============================] - 3s 8ms/step - loss: 0.2687 - accuracy: 0.8892 - val_loss: 0.5272 - val_accuracy: 0.7780\n",
      "Epoch 12/20\n",
      "313/313 [==============================] - 3s 8ms/step - loss: 0.2611 - accuracy: 0.8914 - val_loss: 0.2771 - val_accuracy: 0.8847\n",
      "Epoch 13/20\n",
      "313/313 [==============================] - 3s 9ms/step - loss: 0.2580 - accuracy: 0.8932 - val_loss: 0.2766 - val_accuracy: 0.8851\n",
      "Epoch 14/20\n",
      "313/313 [==============================] - 3s 8ms/step - loss: 0.2489 - accuracy: 0.8974 - val_loss: 0.2784 - val_accuracy: 0.8848\n",
      "Epoch 15/20\n",
      "313/313 [==============================] - 3s 9ms/step - loss: 0.2489 - accuracy: 0.8981 - val_loss: 0.2762 - val_accuracy: 0.8856\n",
      "Epoch 16/20\n",
      "313/313 [==============================] - 3s 9ms/step - loss: 0.2467 - accuracy: 0.8985 - val_loss: 0.3421 - val_accuracy: 0.8497\n",
      "Epoch 17/20\n",
      "313/313 [==============================] - 3s 9ms/step - loss: 0.2369 - accuracy: 0.9033 - val_loss: 0.2836 - val_accuracy: 0.8843\n",
      "Epoch 18/20\n",
      "313/313 [==============================] - 3s 8ms/step - loss: 0.2329 - accuracy: 0.9061 - val_loss: 0.4136 - val_accuracy: 0.8281\n",
      "Epoch 19/20\n",
      "313/313 [==============================] - 3s 9ms/step - loss: 0.2419 - accuracy: 0.8989 - val_loss: 0.3058 - val_accuracy: 0.8741\n",
      "Epoch 20/20\n",
      "313/313 [==============================] - 3s 9ms/step - loss: 0.2328 - accuracy: 0.9056 - val_loss: 0.2765 - val_accuracy: 0.8848\n"
     ]
    }
   ],
   "source": [
    "history = model.fit(X_train_vec.toarray(), y_train,\n",
    "                    epochs=20,\n",
    "                    batch_size=128,\n",
    "                    validation_data=(X_test_vec.toarray(), y_test))"
   ]
  },
  {
   "cell_type": "code",
   "execution_count": 16,
   "id": "be132336",
   "metadata": {},
   "outputs": [
    {
     "data": {
      "text/plain": [
       "[<matplotlib.lines.Line2D at 0x28a8c227d90>]"
      ]
     },
     "execution_count": 16,
     "metadata": {},
     "output_type": "execute_result"
    },
    {
     "data": {
      "image/png": "[encoded data removed]",
      "text/plain": [
       "<Figure size 640x480 with 1 Axes>"
      ]
     },
     "metadata": {},
     "output_type": "display_data"
    }
   ],
   "source": [
    "plt.plot(history.history[\"loss\"])"
   ]
  },
  {
   "attachments": {},
   "cell_type": "markdown",
   "id": "8853414c",
   "metadata": {},
   "source": [
    "## 3.2. MLP in torch"
   ]
  },
  {
   "cell_type": "code",
   "execution_count": 17,
   "id": "6a8820e5",
   "metadata": {},
   "outputs": [],
   "source": [
    "import torch\n",
    "import torch.nn as nn\n",
    "import math\n",
    "\n",
    "class MyLinear_mod(nn.Module):\n",
    "    def __init__(self, n_input, n_output):\n",
    "        super(MyLinear_mod, self).__init__()\n",
    "        self.weights = nn.Parameter(torch.empty((n_output, n_input)))\n",
    "        self.bias = nn.Parameter(torch.empty(n_output))\n",
    "        nn.init.kaiming_uniform_(self.weights, a=math.sqrt(5))\n",
    "        #nn.init.normal_(self.weights)\n",
    "        bound = 1 / math.sqrt(n_input)\n",
    "        nn.init.uniform_(self.bias, -bound, bound)\n",
    "        #nn.init.normal_(self.bias)\n",
    "\n",
    "\n",
    "\n",
    "    def forward(self, x):\n",
    "        return x.matmul(self.weights.t()) + self.bias\n",
    "        #return torch.nn.functional.linear(x, self.weights, self.bias)\n",
    "        \n",
    "class MyReLU_mod(nn.Module):\n",
    "    def __init__(self):\n",
    "        super(MyReLU_mod, self).__init__()\n",
    "        \n",
    "    def forward(self, x):\n",
    "        return torch.max(x, torch.tensor(0.))"
   ]
  },
  {
   "attachments": {},
   "cell_type": "markdown",
   "metadata": {},
   "source": [
    "Define your network using `MyLinear_mod`, `MyReLU_mod` and [`nn.Sigmoid`](https://pytorch.org/docs/stable/nn.html#sigmoid)"
   ]
  },
  {
   "cell_type": "code",
   "execution_count": 18,
   "id": "540af9f9",
   "metadata": {},
   "outputs": [
    {
     "data": {
      "text/plain": [
       "(40000, 3000)"
      ]
     },
     "execution_count": 18,
     "metadata": {},
     "output_type": "execute_result"
    }
   ],
   "source": [
    "X_train_vec.shape"
   ]
  },
  {
   "cell_type": "code",
   "execution_count": 19,
   "id": "50c9701e",
   "metadata": {},
   "outputs": [],
   "source": [
    "y_train_np = y_train.to_numpy()\n",
    "y_test_np = y_test.to_numpy()"
   ]
  },
  {
   "cell_type": "code",
   "execution_count": 20,
   "id": "8ce954d6",
   "metadata": {},
   "outputs": [],
   "source": [
    "X_train_tensor = torch.tensor(X_train_vec.toarray(), dtype=torch.float32)\n",
    "y_train_tensor = torch.tensor(y_train_np, dtype=torch.float32).view(-1, 1)\n",
    "X_test_tensor = torch.tensor(X_test_vec.toarray(), dtype=torch.float32)\n",
    "y_test_tensor = torch.tensor(y_test_np, dtype=torch.float32).view(-1, 1)"
   ]
  },
  {
   "cell_type": "code",
   "execution_count": 21,
   "id": "9b8a5c90",
   "metadata": {},
   "outputs": [],
   "source": [
    "from torch.utils.data import TensorDataset, DataLoader\n",
    "\n",
    "train_dataset = TensorDataset(X_train_tensor, y_train_tensor)\n",
    "test_dataset = TensorDataset(X_test_tensor, y_test_tensor)\n",
    "\n",
    "batch_size = 128\n",
    "train_loader = DataLoader(train_dataset, batch_size=batch_size, shuffle=True)\n",
    "test_loader = DataLoader(test_dataset, batch_size=batch_size, shuffle=False)"
   ]
  },
  {
   "cell_type": "code",
   "execution_count": 22,
   "id": "063114f9",
   "metadata": {},
   "outputs": [],
   "source": [
    "NEURONS = 128\n",
    "# model = nn.Sequential(\n",
    "#     MyLinear_mod(3000,NEURONS),\n",
    "#     MyReLU_mod(),\n",
    "#     MyLinear_mod(NEURONS, NEURONS),\n",
    "#     MyReLU_mod(),\n",
    "#     MyLinear_mod(NEURONS, NEURONS),\n",
    "#     MyReLU_mod(),\n",
    "#     MyLinear_mod(NEURONS, 1),\n",
    "#     nn.Sigmoid()\n",
    "# )\n",
    "# model = nn.Sequential(\n",
    "#     MyLinear_mod(3000,NEURONS),\n",
    "#     nn.ReLU(),\n",
    "#     MyLinear_mod(NEURONS, NEURONS),\n",
    "#     nn.ReLU(),\n",
    "#     MyLinear_mod(NEURONS, NEURONS),\n",
    "#     nn.ReLU(),\n",
    "#     MyLinear_mod(NEURONS, 1),\n",
    "#     nn.Sigmoid()\n",
    "# )\n",
    "\n",
    "model = nn.Sequential(\n",
    "    nn.Linear(3000,NEURONS),\n",
    "    nn.ReLU(),\n",
    "    nn.Linear(NEURONS, NEURONS),\n",
    "    nn.ReLU(),\n",
    "    nn.Linear(NEURONS, NEURONS),\n",
    "    nn.ReLU(),\n",
    "    nn.Linear(NEURONS, 1),\n",
    "    nn.Sigmoid()\n",
    ")"
   ]
  },
  {
   "cell_type": "code",
   "execution_count": 23,
   "id": "657af0f9",
   "metadata": {},
   "outputs": [
    {
     "name": "stderr",
     "output_type": "stream",
     "text": [
      "Epoch 1: 100%|██████████| 313/313 [00:03<00:00, 94.07it/s, Loss=0.694, Accuracy=0.50%] \n"
     ]
    },
    {
     "name": "stdout",
     "output_type": "stream",
     "text": [
      "test: 0.5607\n"
     ]
    },
    {
     "name": "stderr",
     "output_type": "stream",
     "text": [
      "Epoch 2: 100%|██████████| 313/313 [00:03<00:00, 95.17it/s, Loss=0.692, Accuracy=0.51%] \n"
     ]
    },
    {
     "name": "stdout",
     "output_type": "stream",
     "text": [
      "test: 0.4962\n"
     ]
    },
    {
     "name": "stderr",
     "output_type": "stream",
     "text": [
      "Epoch 3: 100%|██████████| 313/313 [00:03<00:00, 96.59it/s, Loss=0.696, Accuracy=0.51%] \n"
     ]
    },
    {
     "name": "stdout",
     "output_type": "stream",
     "text": [
      "test: 0.5038\n"
     ]
    },
    {
     "name": "stderr",
     "output_type": "stream",
     "text": [
      "Epoch 4: 100%|██████████| 313/313 [00:03<00:00, 97.92it/s, Loss=0.692, Accuracy=0.53%] \n"
     ]
    },
    {
     "name": "stdout",
     "output_type": "stream",
     "text": [
      "test: 0.4962\n"
     ]
    },
    {
     "name": "stderr",
     "output_type": "stream",
     "text": [
      "Epoch 5: 100%|██████████| 313/313 [00:03<00:00, 95.80it/s, Loss=0.688, Accuracy=0.56%] \n"
     ]
    },
    {
     "name": "stdout",
     "output_type": "stream",
     "text": [
      "test: 0.595\n"
     ]
    },
    {
     "name": "stderr",
     "output_type": "stream",
     "text": [
      "Epoch 6: 100%|██████████| 313/313 [00:03<00:00, 99.68it/s, Loss=0.668, Accuracy=0.67%] \n"
     ]
    },
    {
     "name": "stdout",
     "output_type": "stream",
     "text": [
      "test: 0.6502\n"
     ]
    },
    {
     "name": "stderr",
     "output_type": "stream",
     "text": [
      "Epoch 7: 100%|██████████| 313/313 [00:03<00:00, 99.15it/s, Loss=0.758, Accuracy=0.75%] \n"
     ]
    },
    {
     "name": "stdout",
     "output_type": "stream",
     "text": [
      "test: 0.5787\n"
     ]
    },
    {
     "name": "stderr",
     "output_type": "stream",
     "text": [
      "Epoch 8: 100%|██████████| 313/313 [00:03<00:00, 97.82it/s, Loss=0.488, Accuracy=0.78%] \n"
     ]
    },
    {
     "name": "stdout",
     "output_type": "stream",
     "text": [
      "test: 0.683\n"
     ]
    },
    {
     "name": "stderr",
     "output_type": "stream",
     "text": [
      "Epoch 9: 100%|██████████| 313/313 [00:03<00:00, 95.41it/s, Loss=0.366, Accuracy=0.83%] \n"
     ]
    },
    {
     "name": "stdout",
     "output_type": "stream",
     "text": [
      "test: 0.8483\n"
     ]
    },
    {
     "name": "stderr",
     "output_type": "stream",
     "text": [
      "Epoch 10: 100%|██████████| 313/313 [00:03<00:00, 97.26it/s, Loss=0.368, Accuracy=0.85%] \n"
     ]
    },
    {
     "name": "stdout",
     "output_type": "stream",
     "text": [
      "test: 0.8542\n"
     ]
    },
    {
     "name": "stderr",
     "output_type": "stream",
     "text": [
      "Epoch 11: 100%|██████████| 313/313 [00:03<00:00, 99.11it/s, Loss=0.295, Accuracy=0.86%] \n"
     ]
    },
    {
     "name": "stdout",
     "output_type": "stream",
     "text": [
      "test: 0.8766\n"
     ]
    },
    {
     "name": "stderr",
     "output_type": "stream",
     "text": [
      "Epoch 12: 100%|██████████| 313/313 [00:03<00:00, 99.59it/s, Loss=0.277, Accuracy=0.87%] \n"
     ]
    },
    {
     "name": "stdout",
     "output_type": "stream",
     "text": [
      "test: 0.8776\n"
     ]
    },
    {
     "name": "stderr",
     "output_type": "stream",
     "text": [
      "Epoch 13: 100%|██████████| 313/313 [00:03<00:00, 99.43it/s, Loss=0.385, Accuracy=0.88%] \n"
     ]
    },
    {
     "name": "stdout",
     "output_type": "stream",
     "text": [
      "test: 0.7726\n"
     ]
    },
    {
     "name": "stderr",
     "output_type": "stream",
     "text": [
      "Epoch 14: 100%|██████████| 313/313 [00:03<00:00, 96.64it/s, Loss=0.178, Accuracy=0.88%] \n"
     ]
    },
    {
     "name": "stdout",
     "output_type": "stream",
     "text": [
      "test: 0.8778\n"
     ]
    },
    {
     "name": "stderr",
     "output_type": "stream",
     "text": [
      "Epoch 15: 100%|██████████| 313/313 [00:03<00:00, 96.01it/s, Loss=0.231, Accuracy=0.89%] \n"
     ]
    },
    {
     "name": "stdout",
     "output_type": "stream",
     "text": [
      "test: 0.8373\n"
     ]
    },
    {
     "name": "stderr",
     "output_type": "stream",
     "text": [
      "Epoch 16: 100%|██████████| 313/313 [00:03<00:00, 96.83it/s, Loss=0.214, Accuracy=0.89%] \n"
     ]
    },
    {
     "name": "stdout",
     "output_type": "stream",
     "text": [
      "test: 0.8501\n"
     ]
    },
    {
     "name": "stderr",
     "output_type": "stream",
     "text": [
      "Epoch 17: 100%|██████████| 313/313 [00:03<00:00, 97.13it/s, Loss=0.417, Accuracy=0.89%] \n"
     ]
    },
    {
     "name": "stdout",
     "output_type": "stream",
     "text": [
      "test: 0.7561\n"
     ]
    },
    {
     "name": "stderr",
     "output_type": "stream",
     "text": [
      "Epoch 18: 100%|██████████| 313/313 [00:03<00:00, 98.86it/s, Loss=0.354, Accuracy=0.89%] \n"
     ]
    },
    {
     "name": "stdout",
     "output_type": "stream",
     "text": [
      "test: 0.8335\n"
     ]
    },
    {
     "name": "stderr",
     "output_type": "stream",
     "text": [
      "Epoch 19: 100%|██████████| 313/313 [00:03<00:00, 97.31it/s, Loss=0.208, Accuracy=0.90%] \n"
     ]
    },
    {
     "name": "stdout",
     "output_type": "stream",
     "text": [
      "test: 0.8821\n"
     ]
    },
    {
     "name": "stderr",
     "output_type": "stream",
     "text": [
      "Epoch 20: 100%|██████████| 313/313 [00:03<00:00, 94.16it/s, Loss=0.272, Accuracy=0.89%] \n"
     ]
    },
    {
     "name": "stdout",
     "output_type": "stream",
     "text": [
      "test: 0.8626\n"
     ]
    }
   ],
   "source": [
    "from torch import optim\n",
    "from tqdm import tqdm\n",
    "\n",
    "\n",
    "optimizer = optim.SGD(model.parameters(), lr=0.1)\n",
    "#optimizer = optim.RMSprop(model.parameters(), lr=0.001)\n",
    "\n",
    "losses = []\n",
    "criterion = nn.BCELoss()\n",
    "epochs = 20\n",
    "for epoch in range(epochs):\n",
    "    model.train()\n",
    "    \n",
    "    train_num_correct = 0\n",
    "    train_num_samples = 0\n",
    "    \n",
    "    pbar = tqdm(train_loader, desc=f\"Epoch {epoch+1}\")\n",
    "\n",
    "    loss_sum = 0\n",
    "    for batch_idx, (features, labels) in enumerate(pbar):\n",
    "        optimizer.zero_grad()\n",
    "\n",
    "        out = model(features)\n",
    "        loss = criterion(out, labels)\n",
    "        #print(labels.shape)\n",
    "        loss.backward()\n",
    "        optimizer.step()\n",
    "        loss_sum += loss.item()\n",
    "        binary_preds = (out > 0.5).float()\n",
    "        train_num_correct += (binary_preds.int() == labels.int()).sum().item()\n",
    "        train_num_samples += labels.size(0)\n",
    "        accuracy = train_num_correct / train_num_samples\n",
    "        pbar.set_postfix({'Loss': loss.item(), 'Accuracy': f'{accuracy:.2f}%'})\n",
    "    losses.append(loss_sum / train_num_samples)\n",
    "\n",
    "    #print(f\"train: {train_num_correct / train_num_samples}\")\n",
    "    model.eval()\n",
    "    \n",
    "    test_num_correct = 0\n",
    "    test_num_samples = 0\n",
    "\n",
    "    # evaluate model on test dataset\n",
    "    with torch.no_grad():\n",
    "        for inputs, targets in test_loader:\n",
    "            # compute outputs\n",
    "            outputs = model(inputs)\n",
    "            \n",
    "            # calculate test accuracy\n",
    "            binary_preds = (outputs > 0.5).float()\n",
    "            #print(targets.shape)\n",
    "            targets = targets.reshape((-1, 1))\n",
    "            test_num_correct += (binary_preds == targets).sum().item()\n",
    "            test_num_samples += targets.size(0)\n",
    "        print(f\"test: {test_num_correct / test_num_samples}\")\n",
    "        "
   ]
  },
  {
   "cell_type": "code",
   "execution_count": 24,
   "id": "852fb3f9",
   "metadata": {},
   "outputs": [
    {
     "data": {
      "text/plain": [
       "[<matplotlib.lines.Line2D at 0x28a8c247b10>]"
      ]
     },
     "execution_count": 24,
     "metadata": {},
     "output_type": "execute_result"
    },
    {
     "data": {
      "image/png": "[encoded data removed]",
      "text/plain": [
       "<Figure size 640x480 with 1 Axes>"
      ]
     },
     "metadata": {},
     "output_type": "display_data"
    }
   ],
   "source": [
    "plt.plot(losses)"
   ]
  }
 ],
 "metadata": {
  "kernelspec": {
   "display_name": "Python 3",
   "language": "python",
   "name": "python3"
  },
  "language_info": {
   "codemirror_mode": {
    "name": "ipython",
    "version": 3
   },
   "file_extension": ".py",
   "mimetype": "text/x-python",
   "name": "python",
   "nbconvert_exporter": "python",
   "pygments_lexer": "ipython3",
   "version": "3.11.0"
  },
  "vscode": {
   "interpreter": {
    "hash": "e534e48711db4d1e1c48977d0d14ff85b1f16d41bcc4fdfd88268a329b3c9d66"
   }
  }
 },
 "nbformat": 4,
 "nbformat_minor": 5
}
