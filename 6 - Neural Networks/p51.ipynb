{
 "cells": [
  {
   "attachments": {},
   "cell_type": "markdown",
   "id": "37fe75cd",
   "metadata": {},
   "source": [
    "# MLP from scratch"
   ]
  },
  {
   "attachments": {},
   "cell_type": "markdown",
   "id": "b1cedbba",
   "metadata": {},
   "source": [
    "In this homework, you will code a [Multilayer perceptron](https://en.wikipedia.org/wiki/Multilayer_perceptron) with one hidden layer to classify text data.\n",
    "\n",
    "Advice:\n",
    "- As much as possible, please try to make matrix and vector operations (good practice for efficient code)\n",
    "- If you're not familiar with numpy, check the documentation of `np.max`, `np.clip`, `np.random.randn`, `np.reshape`. FYI the matrix multiplication operator is `@`, and you may want to learn about [broadcasting rules](https://numpy.org/doc/stable/user/basics.broadcasting.html) to see how it deals with tensor operations of different sizes\n",
    "- You can also check about `torch.clamp`, `torch.nn.Parameter`\n",
    "\n",
    "## 1. Some utilities and dataset for Part 2"
   ]
  },
  {
   "cell_type": "code",
   "execution_count": 2,
   "id": "16564b94",
   "metadata": {},
   "outputs": [],
   "source": [
    "import plygdata as pg\n",
    "import numpy as np\n",
    "data_array = np.array(pg.generate_data(pg.DatasetType.ClassifySpiralData, 0.0))\n",
    "X = data_array[:,:-1]\n",
    "Y = data_array[:,-1]\n",
    "Y = (Y + 1)/2\n"
   ]
  },
  {
   "cell_type": "code",
   "execution_count": 3,
   "id": "94073098",
   "metadata": {},
   "outputs": [
    {
     "data": {
      "image/png": "[encoded data removed]",
      "text/plain": [
       "<Figure size 700x700 with 1 Axes>"
      ]
     },
     "metadata": {},
     "output_type": "display_data"
    }
   ],
   "source": [
    "import numpy as np\n",
    "import matplotlib.pyplot as plt\n",
    "import pandas as pd\n",
    "\n",
    "# Plot the dataset\n",
    "def plot_data(ax, X, Y):\n",
    "    plt.axis('off')\n",
    "    ax.scatter(X[:, 0], X[:, 1], s=1, c=Y, cmap='bone')\n",
    "\n",
    "from sklearn.datasets import make_moons, make_circles, make_classification\n",
    "# X, Y = make_moons(n_samples=2000, noise=0.1)\n",
    "#X, Y = make_circles(n_samples=2000, noise=0.0)\n",
    "#X, Y = make_classification(n_samples=4000, n_features=2, n_informative=2, n_redundant=0, n_repeated=0)\n",
    "%matplotlib inline\n",
    "x_min, x_max = -1.5, 2.5\n",
    "y_min, y_max = -1, 1.5\n",
    "#x_min, x_max = -10, 10\n",
    "#y_min, y_max = -10, 10\n",
    "fig, ax = plt.subplots(1, 1, facecolor='#4B6EA9', figsize=(7, 7))\n",
    "ax.set_xlim(x_min, x_max)\n",
    "ax.set_ylim(y_min, y_max)\n",
    "plot_data(ax, X, Y)\n",
    "plt.show()"
   ]
  },
  {
   "cell_type": "code",
   "execution_count": 4,
   "id": "5755e2ba",
   "metadata": {},
   "outputs": [],
   "source": [
    "# Define the grid on which we will evaluate our classifier\n",
    "xx, yy = np.meshgrid(np.arange(x_min, x_max, .1),\n",
    "                     np.arange(y_min, y_max, .1))\n",
    "\n",
    "to_forward = np.array(list(zip(xx.ravel(), yy.ravel())))\n",
    "\n",
    "# plot the decision boundary of our classifier\n",
    "def plot_decision_boundary(ax, X, Y, classifier):\n",
    "    # forward pass on the grid, then convert to numpy for plotting\n",
    "    #X = X.reshape((-1, 2, 1))\n",
    "    Z = classifier.forward(to_forward.T)\n",
    "    Z = Z.reshape(xx.shape)\n",
    "    \n",
    "    # plot contour lines of the values of our classifier on the grid\n",
    "    ax.contourf(xx, yy, Z>0.5, cmap='Blues')\n",
    "    \n",
    "    # then plot the dataset\n",
    "    plot_data(ax, X,Y)"
   ]
  },
  {
   "attachments": {},
   "cell_type": "markdown",
   "id": "1a524868",
   "metadata": {},
   "source": [
    "## 2. MLP in numpy\n",
    "\n",
    "Here you need to code your implementation of the [ReLU](https://en.wikipedia.org/wiki/Rectifier_(neural_networks)) activation and the [Sigmoid](https://en.wikipedia.org/wiki/Sigmoid_function)."
   ]
  },
  {
   "cell_type": "code",
   "execution_count": 5,
   "id": "d8a14b07",
   "metadata": {},
   "outputs": [],
   "source": [
    "class MyReLU(object):\n",
    "    def forward(self, x):\n",
    "        self.out = np.maximum(x, 0)\n",
    "        return self.out\n",
    "        \n",
    "    def backward(self, grad_output):\n",
    "        return np.where(self.out > 0, grad_output, 0)\n",
    "    \n",
    "    def step(self, learning_rate):\n",
    "        pass\n",
    "\n",
    "class MySigmoid(object):\n",
    "    def forward(self, x):\n",
    "        self.out = np.reciprocal(1 + np.exp(-x))\n",
    "        return self.out\n",
    "    \n",
    "    def backward(self, grad_output):\n",
    "        return grad_output * self.out * (1 - self.out)\n",
    "    \n",
    "    def step(self, learning_rate):\n",
    "        pass"
   ]
  },
  {
   "attachments": {},
   "cell_type": "markdown",
   "metadata": {},
   "source": [
    "Probably a good time to test your functions..."
   ]
  },
  {
   "cell_type": "code",
   "execution_count": 6,
   "id": "6bee5c43",
   "metadata": {},
   "outputs": [
    {
     "data": {
      "text/plain": [
       "array([0. , 0. , 0.5, 0. , 0.8, 1. ])"
      ]
     },
     "execution_count": 6,
     "metadata": {},
     "output_type": "execute_result"
    }
   ],
   "source": [
    "test_relu = MyReLU()\n",
    "test_relu.forward([0, -1, 0.5, -0.5, 0.8, 1])"
   ]
  },
  {
   "cell_type": "code",
   "execution_count": 7,
   "id": "a55b3cfe",
   "metadata": {},
   "outputs": [
    {
     "data": {
      "text/plain": [
       "array([0., 0., 1., 0., 1., 1.])"
      ]
     },
     "execution_count": 7,
     "metadata": {},
     "output_type": "execute_result"
    }
   ],
   "source": [
    "test_relu.backward(np.ones(1))"
   ]
  },
  {
   "cell_type": "code",
   "execution_count": 8,
   "id": "fa1accfc",
   "metadata": {},
   "outputs": [
    {
     "data": {
      "text/plain": [
       "array([0.73105858])"
      ]
     },
     "execution_count": 8,
     "metadata": {},
     "output_type": "execute_result"
    }
   ],
   "source": [
    "test_sig = MySigmoid()\n",
    "\n",
    "test_sig.forward(np.ones(1))"
   ]
  },
  {
   "cell_type": "code",
   "execution_count": 9,
   "id": "185e150a",
   "metadata": {},
   "outputs": [
    {
     "data": {
      "text/plain": [
       "array([0.19661193])"
      ]
     },
     "execution_count": 9,
     "metadata": {},
     "output_type": "execute_result"
    }
   ],
   "source": [
    "test_sig.backward(np.ones(1))"
   ]
  },
  {
   "attachments": {},
   "cell_type": "markdown",
   "metadata": {},
   "source": [
    "A bit more complicated, you need now to implement your linear layer i.e. multiplication by a matrix W and summing with a bias b."
   ]
  },
  {
   "attachments": {},
   "cell_type": "markdown",
   "id": "3208a64d",
   "metadata": {},
   "source": [
    "$$ y_i = \\sum_j W_{i,j} x_j + b_i  \\\\\n",
    "         d y_i / d W_{i, j} = x_j \\\\\n",
    "         d loss / d y_i = grad_output[i] \\\\\n",
    "         so \\ d loss / d W_{i,j} = x_j *  gradoutput[i]  (by the chain rule) \\\\\n",
    "          d loss / d x_j = \\sum_i (d loss / d y_i) (d y_i / d x_j) $$"
   ]
  },
  {
   "cell_type": "code",
   "execution_count": 10,
   "id": "62c8324c",
   "metadata": {},
   "outputs": [],
   "source": [
    "class MyLinear(object):\n",
    "    def __init__(self, n_input, n_output):\n",
    "        self.weights = np.random.randn(n_output, n_input)\n",
    "        self.bias = np.random.randn(n_output, 1)\n",
    "\n",
    "    def forward(self, x):\n",
    "        self.input = x\n",
    "        return self.weights @ x + self.bias\n",
    "    \n",
    "    def backward(self, grad_output):\n",
    "        self.grad_weights = grad_output @ self.input.T\n",
    "        self.grad_bias = np.sum(grad_output, axis=1, keepdims=True)\n",
    "\n",
    "        grad_input = self.weights.T @ grad_output\n",
    "        return grad_input\n",
    "    \n",
    "    def step(self, learning_rate):\n",
    "        self.weights -= learning_rate * self.grad_weights\n",
    "        self.bias -= learning_rate * self.grad_bias"
   ]
  },
  {
   "attachments": {},
   "cell_type": "markdown",
   "id": "488d62d9",
   "metadata": {},
   "source": [
    "Code your network. Note that with a Sigmoid layer, you should use the Binary Cross Entropy (BCE) loss."
   ]
  },
  {
   "cell_type": "code",
   "execution_count": 11,
   "id": "991116e9",
   "metadata": {},
   "outputs": [],
   "source": [
    "class Sequential(object):\n",
    "    def __init__(self):\n",
    "        self.layers = [\n",
    "            MyLinear(2, 10),\n",
    "            MyReLU(),\n",
    "            MyLinear(10, 10),\n",
    "            MyReLU(),\n",
    "            MyLinear(10, 10),\n",
    "            MyReLU(),\n",
    "            MyLinear(10, 10),\n",
    "            MyReLU(),\n",
    "            MyLinear(10, 1),\n",
    "            MySigmoid()\n",
    "        ]\n",
    "        \n",
    "    def forward(self, x):\n",
    "        cur_out = x\n",
    "        for layer in self.layers:\n",
    "            cur_out = layer.forward(cur_out)\n",
    "        return cur_out\n",
    "        \n",
    "    def compute_loss(self, out, label):\n",
    "        if out == 0:\n",
    "            out = 1e-10\n",
    "        elif out == 1:\n",
    "            out = out - 1e-10\n",
    "        loss = -(label * np.log(out) + (1-label) * np.log(1-out))\n",
    "        self.grad_output = (out - label)/(out*(1 - out))\n",
    "        return loss\n",
    "\n",
    "    def backward(self):\n",
    "        cur_grad = self.grad_output\n",
    "        for layer in reversed(self.layers):\n",
    "            cur_grad = layer.backward(cur_grad)\n",
    "    \n",
    "    def step(self, learning_rate):\n",
    "        for layer in self.layers:\n",
    "            layer.step(learning_rate)"
   ]
  },
  {
   "cell_type": "code",
   "execution_count": 12,
   "id": "917fe7f8",
   "metadata": {},
   "outputs": [],
   "source": [
    "model = Sequential()"
   ]
  },
  {
   "cell_type": "code",
   "execution_count": 13,
   "id": "3086717d",
   "metadata": {},
   "outputs": [],
   "source": [
    "losses = []\n",
    "learning_rate = 1e-2\n",
    "epochs = 10\n",
    "for epoch in range(epochs):\n",
    "    loss_sum = 0 \n",
    "    for it in range(len(X)):\n",
    "        idx = np.random.randint(0, len(X))\n",
    "        x = X[idx]\n",
    "        x = x.reshape(2, 1)\n",
    "        label = Y[idx]\n",
    "        out = model.forward(x)\n",
    "        loss_sum += model.compute_loss(out, label)\n",
    "        model.backward()\n",
    "        model.step(learning_rate)\n",
    "    losses.append(loss_sum)\n"
   ]
  },
  {
   "cell_type": "code",
   "execution_count": 14,
   "id": "bbbba4bb",
   "metadata": {},
   "outputs": [
    {
     "data": {
      "image/png": "[encoded data removed]",
      "text/plain": [
       "<Figure size 640x480 with 1 Axes>"
      ]
     },
     "metadata": {},
     "output_type": "display_data"
    }
   ],
   "source": [
    "losses = np.array(losses)\n",
    "losses = losses.reshape((-1, 1))\n",
    "%matplotlib inline\n",
    "plt.plot(losses)\n",
    "plt.show()"
   ]
  },
  {
   "cell_type": "code",
   "execution_count": 15,
   "id": "4d10dc2d",
   "metadata": {},
   "outputs": [
    {
     "data": {
      "image/png": "[encoded data removed]",
      "text/plain": [
       "<Figure size 640x480 with 1 Axes>"
      ]
     },
     "metadata": {},
     "output_type": "display_data"
    }
   ],
   "source": [
    "fig, ax = plt.subplots(1, 1, facecolor='#4B6EA9')\n",
    "ax.set_xlim(x_min, x_max)\n",
    "ax.set_ylim(y_min, y_max)\n",
    "plot_decision_boundary(ax, X, Y, model)\n",
    "fig.canvas.draw()"
   ]
  },
  {
   "attachments": {},
   "cell_type": "markdown",
   "metadata": {},
   "source": [
    "## 3. Using a Pytorch module\n",
    "\n",
    "In this last part, use `toch.nn.Module` to recode `MyLinear` and `MyReLU` so that these modules will be pytorch compatible."
   ]
  },
  {
   "attachments": {},
   "cell_type": "markdown",
   "id": "812c01bb",
   "metadata": {},
   "source": [
    "## 3.1. Load & Preprocess the IMDB Dataset\n",
    "\n",
    "In this section, you are required to read and load the provided `csv` file, and perform the preprocessing steps as specified in the assignment's description."
   ]
  },
  {
   "cell_type": "code",
   "execution_count": 16,
   "id": "ec1d802f",
   "metadata": {},
   "outputs": [],
   "source": [
    "import pandas as pd\n",
    "import numpy as np\n",
    "\n",
    "data = pd.read_csv(\"assets/data/imdb_dataset.csv\")"
   ]
  },
  {
   "cell_type": "code",
   "execution_count": 17,
   "id": "7207f3a1",
   "metadata": {},
   "outputs": [
    {
     "data": {
      "text/html": [
       "<div>\n",
       "<style scoped>\n",
       "    .dataframe tbody tr th:only-of-type {\n",
       "        vertical-align: middle;\n",
       "    }\n",
       "\n",
       "    .dataframe tbody tr th {\n",
       "        vertical-align: top;\n",
       "    }\n",
       "\n",
       "    .dataframe thead th {\n",
       "        text-align: right;\n",
       "    }\n",
       "</style>\n",
       "<table border=\"1\" class=\"dataframe\">\n",
       "  <thead>\n",
       "    <tr style=\"text-align: right;\">\n",
       "      <th></th>\n",
       "      <th>review</th>\n",
       "      <th>sentiment</th>\n",
       "    </tr>\n",
       "  </thead>\n",
       "  <tbody>\n",
       "    <tr>\n",
       "      <th>0</th>\n",
       "      <td>One of the other reviewers has mentioned that ...</td>\n",
       "      <td>positive</td>\n",
       "    </tr>\n",
       "    <tr>\n",
       "      <th>1</th>\n",
       "      <td>A wonderful little production. &lt;br /&gt;&lt;br /&gt;The...</td>\n",
       "      <td>positive</td>\n",
       "    </tr>\n",
       "    <tr>\n",
       "      <th>2</th>\n",
       "      <td>I thought this was a wonderful way to spend ti...</td>\n",
       "      <td>positive</td>\n",
       "    </tr>\n",
       "    <tr>\n",
       "      <th>3</th>\n",
       "      <td>Basically there's a family where a little boy ...</td>\n",
       "      <td>negative</td>\n",
       "    </tr>\n",
       "    <tr>\n",
       "      <th>4</th>\n",
       "      <td>Petter Mattei's \"Love in the Time of Money\" is...</td>\n",
       "      <td>positive</td>\n",
       "    </tr>\n",
       "    <tr>\n",
       "      <th>5</th>\n",
       "      <td>Probably my all-time favorite movie, a story o...</td>\n",
       "      <td>positive</td>\n",
       "    </tr>\n",
       "    <tr>\n",
       "      <th>6</th>\n",
       "      <td>I sure would like to see a resurrection of a u...</td>\n",
       "      <td>positive</td>\n",
       "    </tr>\n",
       "    <tr>\n",
       "      <th>7</th>\n",
       "      <td>This show was an amazing, fresh &amp; innovative i...</td>\n",
       "      <td>negative</td>\n",
       "    </tr>\n",
       "    <tr>\n",
       "      <th>8</th>\n",
       "      <td>Encouraged by the positive comments about this...</td>\n",
       "      <td>negative</td>\n",
       "    </tr>\n",
       "    <tr>\n",
       "      <th>9</th>\n",
       "      <td>If you like original gut wrenching laughter yo...</td>\n",
       "      <td>positive</td>\n",
       "    </tr>\n",
       "  </tbody>\n",
       "</table>\n",
       "</div>"
      ],
      "text/plain": [
       "                                              review sentiment\n",
       "0  One of the other reviewers has mentioned that ...  positive\n",
       "1  A wonderful little production. <br /><br />The...  positive\n",
       "2  I thought this was a wonderful way to spend ti...  positive\n",
       "3  Basically there's a family where a little boy ...  negative\n",
       "4  Petter Mattei's \"Love in the Time of Money\" is...  positive\n",
       "5  Probably my all-time favorite movie, a story o...  positive\n",
       "6  I sure would like to see a resurrection of a u...  positive\n",
       "7  This show was an amazing, fresh & innovative i...  negative\n",
       "8  Encouraged by the positive comments about this...  negative\n",
       "9  If you like original gut wrenching laughter yo...  positive"
      ]
     },
     "execution_count": 17,
     "metadata": {},
     "output_type": "execute_result"
    }
   ],
   "source": [
    "data.head(10)"
   ]
  },
  {
   "cell_type": "code",
   "execution_count": 18,
   "id": "e068c9eb",
   "metadata": {},
   "outputs": [
    {
     "name": "stdout",
     "output_type": "stream",
     "text": [
      "<class 'pandas.core.frame.DataFrame'>\n",
      "RangeIndex: 50000 entries, 0 to 49999\n",
      "Data columns (total 2 columns):\n",
      " #   Column     Non-Null Count  Dtype \n",
      "---  ------     --------------  ----- \n",
      " 0   review     50000 non-null  object\n",
      " 1   sentiment  50000 non-null  object\n",
      "dtypes: object(2)\n",
      "memory usage: 781.4+ KB\n"
     ]
    }
   ],
   "source": [
    "data.info()"
   ]
  },
  {
   "cell_type": "code",
   "execution_count": 19,
   "id": "ceedf179",
   "metadata": {},
   "outputs": [
    {
     "data": {
      "text/html": [
       "<div>\n",
       "<style scoped>\n",
       "    .dataframe tbody tr th:only-of-type {\n",
       "        vertical-align: middle;\n",
       "    }\n",
       "\n",
       "    .dataframe tbody tr th {\n",
       "        vertical-align: top;\n",
       "    }\n",
       "\n",
       "    .dataframe thead th {\n",
       "        text-align: right;\n",
       "    }\n",
       "</style>\n",
       "<table border=\"1\" class=\"dataframe\">\n",
       "  <thead>\n",
       "    <tr style=\"text-align: right;\">\n",
       "      <th></th>\n",
       "      <th>review</th>\n",
       "      <th>sentiment</th>\n",
       "    </tr>\n",
       "  </thead>\n",
       "  <tbody>\n",
       "    <tr>\n",
       "      <th>count</th>\n",
       "      <td>50000</td>\n",
       "      <td>50000</td>\n",
       "    </tr>\n",
       "    <tr>\n",
       "      <th>unique</th>\n",
       "      <td>49582</td>\n",
       "      <td>2</td>\n",
       "    </tr>\n",
       "    <tr>\n",
       "      <th>top</th>\n",
       "      <td>Loved today's show!!! It was a variety and not...</td>\n",
       "      <td>positive</td>\n",
       "    </tr>\n",
       "    <tr>\n",
       "      <th>freq</th>\n",
       "      <td>5</td>\n",
       "      <td>25000</td>\n",
       "    </tr>\n",
       "  </tbody>\n",
       "</table>\n",
       "</div>"
      ],
      "text/plain": [
       "                                                   review sentiment\n",
       "count                                               50000     50000\n",
       "unique                                              49582         2\n",
       "top     Loved today's show!!! It was a variety and not...  positive\n",
       "freq                                                    5     25000"
      ]
     },
     "execution_count": 19,
     "metadata": {},
     "output_type": "execute_result"
    }
   ],
   "source": [
    "data.describe()"
   ]
  },
  {
   "cell_type": "code",
   "execution_count": 20,
   "id": "b72582d6",
   "metadata": {},
   "outputs": [],
   "source": [
    "from sklearn.preprocessing import LabelEncoder\n",
    "\n",
    "le = LabelEncoder()\n",
    "data[\"sentiment\"] = le.fit_transform(data[\"sentiment\"])"
   ]
  },
  {
   "cell_type": "code",
   "execution_count": 21,
   "id": "c1f2decf",
   "metadata": {},
   "outputs": [
    {
     "data": {
      "text/plain": [
       "0        1\n",
       "1        1\n",
       "2        1\n",
       "3        0\n",
       "4        1\n",
       "        ..\n",
       "49995    1\n",
       "49996    0\n",
       "49997    0\n",
       "49998    0\n",
       "49999    0\n",
       "Name: sentiment, Length: 50000, dtype: int32"
      ]
     },
     "execution_count": 21,
     "metadata": {},
     "output_type": "execute_result"
    }
   ],
   "source": [
    "data[\"sentiment\"]"
   ]
  },
  {
   "cell_type": "code",
   "execution_count": 22,
   "id": "9f13a822",
   "metadata": {},
   "outputs": [],
   "source": [
    "from sklearn.model_selection import train_test_split\n",
    "X_train, X_test, y_train, y_test = train_test_split(data['review'], data['sentiment'], test_size=0.2)"
   ]
  },
  {
   "cell_type": "code",
   "execution_count": 23,
   "id": "d39ced5d",
   "metadata": {},
   "outputs": [
    {
     "name": "stdout",
     "output_type": "stream",
     "text": [
      "positive review:\n",
      "Great Woody Allen? No. Good Woody Allen? Definitely. I found myself, along with the audience in attendance, laughing hard and often at some of the best Woody Allen lines we've heard in a while. The aging Allen created an appropriate role for himself as Scarlett Johansson's \"father\" ... well, sort of. Some have said Johansson plays \"a young Dianne Keaton.\" I beg to differ. She plays Woody's dialogue, which, in his comedies, always has a very similar feel...like, well, a Woody Allen comedy. That's fine for us Woody appreciators. She certainly did Woody's dialogue far better than the young cast of his last comedy, Melinda/Melinda. Some may find Woody's humor tiresome, but for those of us who love it when it's done right, we look forward to the next.\n",
      "negative review:\n",
      "This movie was one of the longest movie watching experiences of my life. While I like how the director, Chan-wook Park, handled the revenge, the move as a whole was TERRIBLE. Oldboy is only billed at 1 hour and 55 minutes long but it feels like it takes at least 3 and a half hours to tell this story. I will say that the English dubbing was done very well and the movie was easily understandable. I felt that some of the scenes were unnecessarily long and a lot of the dialogue repeated itself. Also, if you have an aversion to annoying voices, then avoid hearing Hye-jeong Kang (she plays Mi-do) speak. If you are looking for a movie to kill time and make you feel morally superior to others, then watch away. If you don't want to watch a movie filled with incest, bad dialogue, unnecessary fight scenes, gross torture scenes and confusing flashbacks, then this is not the movie for you.\n"
     ]
    }
   ],
   "source": [
    "positive_train_reviews = np.array(X_train[y_train == 1])\n",
    "negative_train_reviews = np.array(X_train[y_train == 0])\n",
    "print(\"positive review:\")\n",
    "print(positive_train_reviews[np.random.randint(0, len(positive_train_reviews))])\n",
    "print(\"negative review:\")\n",
    "print(negative_train_reviews[np.random.randint(0, len(negative_train_reviews))])"
   ]
  },
  {
   "cell_type": "code",
   "execution_count": 24,
   "id": "3213d26a",
   "metadata": {},
   "outputs": [
    {
     "name": "stdout",
     "output_type": "stream",
     "text": [
      "positive review:\n",
      "The weakness of this comes from the confusing storytelling, plots often coming out of nowhere. But it really didn't matter because I still enjoyed it to it's full length. Once you actually accept that this movies not to be taken too seriously then you'll enjoy it even more. It's basically a love story, a confusing one at first but as it evolves it really is something worthwhile. Sure it's been done so many times before but the complicated version of this is quite inspiring and touching.<br /><br />The over the top fantasy and cgi was overwhelming at first but I still enjoyed its purpose. And people quit whining about how it borrowed from other movies!! Guess what we know!! And it doesn't really matter because its purpose was to humour and entertain. Sometimes people has to stop being so critical and think for a moment before they start yapping about. Comparing this to Hollywood standards is utterly stupid and ignorant, It's a totally different style and target audience. As far as I'm concerned some the best films I've feasted my eyes upon are from eastern producers and directors. There's your Police story 4,shaolin soccer, kung fu hustle, dragon tiger gate, fist of legend, hero, crouching tiger etc...I for one like this movie and haling from the Philippines, US, england, Libya and now Australia, I'll always be interested in these types of films. Now try and judge my perception, but I warn you I do see things from from the point of view of those 5 countries I've lived in. So you better be as experienced and open minded.\n",
      "negative review:\n",
      "HORRENDOUS! Avoid like the plague. I would rate this in the top 10 worst movies ever. Special effects, acting, mood, sound, etc. appear to be done by day care students...wait, I have seen programs better than this. Opens like a soft porn show with a blurred nude female doing a shower scene then goes bad from there. Good nude scenes, but that is it. Sound and light problems were persistent throughout the movie. At times I would swear I could hear the roaring of the camera motors. YIKES! I would like to see another movie on this story, but done by different people. This batch of actors and crew need more acting and movie making lessons. Voted 1 out of 10.\n"
     ]
    }
   ],
   "source": [
    "positive_train_reviews = np.array(X_test[y_test == 1])\n",
    "negative_train_reviews = np.array(X_test[y_test == 0])\n",
    "print(\"positive review:\")\n",
    "print(positive_train_reviews[np.random.randint(0, len(positive_train_reviews))])\n",
    "print(\"negative review:\")\n",
    "print(negative_train_reviews[np.random.randint(0, len(negative_train_reviews))])"
   ]
  },
  {
   "cell_type": "code",
   "execution_count": 25,
   "id": "19379855",
   "metadata": {},
   "outputs": [
    {
     "data": {
      "image/png": "[encoded data removed]",
      "text/plain": [
       "<Figure size 800x800 with 1 Axes>"
      ]
     },
     "metadata": {},
     "output_type": "display_data"
    }
   ],
   "source": [
    "import matplotlib.pyplot as plt\n",
    "train_counts = y_train.value_counts()\n",
    "test_counts = y_test.value_counts()\n",
    "fig, ax = plt.subplots()\n",
    "train_counts.plot.bar(ax=ax, color='blue', alpha=0.5, width=0.4, position=0, label='Train', figsize=(8, 8))\n",
    "test_counts.plot.bar(ax=ax, color='green', alpha=0.5, width=0.4, position=1, label='Test')\n",
    "ax.set_title('Number of negative and positive reviews')\n",
    "ax.set_xlabel('Sentiment')\n",
    "ax.set_ylabel('Count')\n",
    "ax.legend()\n",
    "plt.show()"
   ]
  },
  {
   "cell_type": "code",
   "execution_count": 26,
   "id": "1a5c2e5a",
   "metadata": {},
   "outputs": [
    {
     "name": "stderr",
     "output_type": "stream",
     "text": [
      "[nltk_data] Downloading package punkt to\n",
      "[nltk_data]     C:\\Users\\Shahriar\\AppData\\Roaming\\nltk_data...\n",
      "[nltk_data]   Package punkt is already up-to-date!\n",
      "[nltk_data] Downloading package wordnet to\n",
      "[nltk_data]     C:\\Users\\Shahriar\\AppData\\Roaming\\nltk_data...\n",
      "[nltk_data]   Package wordnet is already up-to-date!\n",
      "c:\\Users\\Shahriar\\AppData\\Local\\Programs\\Python\\Python311\\Lib\\site-packages\\sklearn\\feature_extraction\\text.py:528: UserWarning: The parameter 'token_pattern' will not be used since 'tokenizer' is not None'\n",
      "  warnings.warn(\n"
     ]
    }
   ],
   "source": [
    "from sklearn.feature_extraction.text import TfidfVectorizer\n",
    "from sklearn.metrics.pairwise import linear_kernel\n",
    "from nltk import word_tokenize          \n",
    "from nltk.stem import WordNetLemmatizer\n",
    "import nltk\n",
    "from nltk.corpus import stopwords\n",
    "\n",
    "# Download stopwords list\n",
    "nltk.download('punkt')\n",
    "nltk.download('wordnet')\n",
    "stop_words = set(stopwords.words('english')) \n",
    "\n",
    "# Interface lemma tokenizer from nltk with sklearn\n",
    "class LemmaTokenizer:\n",
    "    ignore_tokens = [',', '.', ';', ':', '\"', '``', \"''\", '`']\n",
    "    def __init__(self):\n",
    "        self.wnl = WordNetLemmatizer()\n",
    "    def __call__(self, doc):\n",
    "        return [self.wnl.lemmatize(t) for t in word_tokenize(doc) if t not in self.ignore_tokens]\n",
    "\n",
    "# Lemmatize the stop words\n",
    "tokenizer=LemmaTokenizer()\n",
    "token_stop = tokenizer(' '.join(stop_words))\n",
    "\n",
    "# Create TF-idf model\n",
    "vectorizer = TfidfVectorizer(max_features=3000,stop_words=token_stop, \n",
    "                              tokenizer=tokenizer)\n",
    "vectorizer.fit(X_train.values)\n",
    "X_train_vec = vectorizer.transform(X_train.values)\n",
    "X_test_vec = vectorizer.transform(X_test.values)\n",
    "#features = vectorizer.fit_transform(data[\"review\"])"
   ]
  },
  {
   "cell_type": "code",
   "execution_count": 27,
   "id": "d8fafadd",
   "metadata": {},
   "outputs": [
    {
     "data": {
      "text/plain": [
       "True"
      ]
     },
     "execution_count": 27,
     "metadata": {},
     "output_type": "execute_result"
    }
   ],
   "source": [
    "(X_train_vec.min() >= 0 and X_train_vec.max() <= 1) and (X_test_vec.min() >= 0 and X_test_vec.max() <= 1)"
   ]
  },
  {
   "cell_type": "code",
   "execution_count": 28,
   "id": "fc617e13",
   "metadata": {},
   "outputs": [
    {
     "name": "stderr",
     "output_type": "stream",
     "text": [
      "WARNING:absl:`lr` is deprecated in Keras optimizer, please use `learning_rate` or use the legacy optimizer, e.g.,tf.keras.optimizers.legacy.SGD.\n"
     ]
    }
   ],
   "source": [
    "from tensorflow import keras\n",
    "from keras import models, layers, optimizers\n",
    "\n",
    "model = models.Sequential()\n",
    "NEURONS = 128\n",
    "model.add(layers.Dense(NEURONS, activation='relu', input_shape=(3000,)))\n",
    "model.add(layers.Dense(NEURONS, activation='relu'))\n",
    "model.add(layers.Dense(NEURONS, activation='relu'))\n",
    "model.add(layers.Dense(1, activation='sigmoid'))\n",
    "\n",
    "optimizer = optimizers.SGD(lr=0.1)\n",
    "\n",
    "model.compile(optimizer=optimizer,\n",
    "              loss='binary_crossentropy',\n",
    "              metrics=['accuracy'])\n"
   ]
  },
  {
   "cell_type": "code",
   "execution_count": 30,
   "id": "3836ff66",
   "metadata": {},
   "outputs": [
    {
     "name": "stdout",
     "output_type": "stream",
     "text": [
      "Epoch 1/20\n",
      "313/313 [==============================] - 3s 6ms/step - loss: 0.6931 - accuracy: 0.5072 - val_loss: 0.6929 - val_accuracy: 0.5112\n",
      "Epoch 2/20\n",
      "313/313 [==============================] - 2s 8ms/step - loss: 0.6924 - accuracy: 0.5264 - val_loss: 0.6922 - val_accuracy: 0.5618\n",
      "Epoch 3/20\n",
      "313/313 [==============================] - 3s 9ms/step - loss: 0.6916 - accuracy: 0.5760 - val_loss: 0.6913 - val_accuracy: 0.5898\n",
      "Epoch 4/20\n",
      "313/313 [==============================] - 2s 8ms/step - loss: 0.6906 - accuracy: 0.5990 - val_loss: 0.6901 - val_accuracy: 0.6204\n",
      "Epoch 5/20\n",
      "313/313 [==============================] - 3s 8ms/step - loss: 0.6892 - accuracy: 0.6339 - val_loss: 0.6885 - val_accuracy: 0.6332\n",
      "Epoch 6/20\n",
      "313/313 [==============================] - 2s 7ms/step - loss: 0.6872 - accuracy: 0.6481 - val_loss: 0.6864 - val_accuracy: 0.6619\n",
      "Epoch 7/20\n",
      "313/313 [==============================] - 2s 7ms/step - loss: 0.6846 - accuracy: 0.6796 - val_loss: 0.6834 - val_accuracy: 0.6805\n",
      "Epoch 8/20\n",
      "313/313 [==============================] - 2s 8ms/step - loss: 0.6810 - accuracy: 0.6945 - val_loss: 0.6793 - val_accuracy: 0.7020\n",
      "Epoch 9/20\n",
      "313/313 [==============================] - 3s 8ms/step - loss: 0.6760 - accuracy: 0.7178 - val_loss: 0.6736 - val_accuracy: 0.7178\n",
      "Epoch 10/20\n",
      "313/313 [==============================] - 3s 9ms/step - loss: 0.6688 - accuracy: 0.7347 - val_loss: 0.6651 - val_accuracy: 0.7369\n",
      "Epoch 11/20\n",
      "313/313 [==============================] - 3s 9ms/step - loss: 0.6582 - accuracy: 0.7520 - val_loss: 0.6526 - val_accuracy: 0.7510\n",
      "Epoch 12/20\n",
      "313/313 [==============================] - 3s 9ms/step - loss: 0.6422 - accuracy: 0.7685 - val_loss: 0.6335 - val_accuracy: 0.7660\n",
      "Epoch 13/20\n",
      "313/313 [==============================] - 3s 9ms/step - loss: 0.6178 - accuracy: 0.7829 - val_loss: 0.6050 - val_accuracy: 0.7801\n",
      "Epoch 14/20\n",
      "313/313 [==============================] - 2s 8ms/step - loss: 0.5816 - accuracy: 0.7983 - val_loss: 0.5631 - val_accuracy: 0.7977\n",
      "Epoch 15/20\n",
      "313/313 [==============================] - 3s 9ms/step - loss: 0.5322 - accuracy: 0.8147 - val_loss: 0.5104 - val_accuracy: 0.8111\n",
      "Epoch 16/20\n",
      "313/313 [==============================] - 3s 8ms/step - loss: 0.4755 - accuracy: 0.8285 - val_loss: 0.4561 - val_accuracy: 0.8241\n",
      "Epoch 17/20\n",
      "313/313 [==============================] - 2s 8ms/step - loss: 0.4222 - accuracy: 0.8412 - val_loss: 0.4125 - val_accuracy: 0.8302\n",
      "Epoch 18/20\n",
      "313/313 [==============================] - 2s 7ms/step - loss: 0.3801 - accuracy: 0.8512 - val_loss: 0.3828 - val_accuracy: 0.8377\n",
      "Epoch 19/20\n",
      "313/313 [==============================] - 2s 7ms/step - loss: 0.3489 - accuracy: 0.8601 - val_loss: 0.3543 - val_accuracy: 0.8528\n",
      "Epoch 20/20\n",
      "313/313 [==============================] - 3s 8ms/step - loss: 0.3265 - accuracy: 0.8672 - val_loss: 0.3371 - val_accuracy: 0.8576\n"
     ]
    }
   ],
   "source": [
    "history = model.fit(X_train_vec.toarray(), y_train,\n",
    "                    epochs=20,\n",
    "                    batch_size=128,\n",
    "                    validation_data=(X_test_vec.toarray(), y_test))"
   ]
  },
  {
   "cell_type": "code",
   "execution_count": 31,
   "id": "be132336",
   "metadata": {},
   "outputs": [
    {
     "data": {
      "text/plain": [
       "[<matplotlib.lines.Line2D at 0x1074dd67b90>]"
      ]
     },
     "execution_count": 31,
     "metadata": {},
     "output_type": "execute_result"
    },
    {
     "data": {
      "image/png": "[encoded data removed]",
      "text/plain": [
       "<Figure size 640x480 with 1 Axes>"
      ]
     },
     "metadata": {},
     "output_type": "display_data"
    }
   ],
   "source": [
    "plt.plot(history.history[\"loss\"])"
   ]
  },
  {
   "attachments": {},
   "cell_type": "markdown",
   "id": "8853414c",
   "metadata": {},
   "source": [
    "## 3.2. MLP in torch"
   ]
  },
  {
   "cell_type": "code",
   "execution_count": null,
   "id": "6a8820e5",
   "metadata": {},
   "outputs": [],
   "source": [
    "import torch\n",
    "import torch.nn as nn\n",
    "import math\n",
    "\n",
    "class MyLinear_mod(nn.Module):\n",
    "    def __init__(self, n_input, n_output):\n",
    "        super(MyLinear_mod, self).__init__()\n",
    "        self.weights = nn.Parameter(torch.empty((n_output, n_input)))\n",
    "        self.bias = nn.Parameter(torch.empty(n_output))\n",
    "        nn.init.kaiming_uniform_(self.weights, a=math.sqrt(5))\n",
    "        #nn.init.normal_(self.weights)\n",
    "        bound = 1 / math.sqrt(n_input)\n",
    "        nn.init.uniform_(self.bias, -bound, bound)\n",
    "        #nn.init.normal_(self.bias)\n",
    "\n",
    "\n",
    "\n",
    "    def forward(self, x):\n",
    "        return x.matmul(self.weights.t()) + self.bias\n",
    "        #return torch.nn.functional.linear(x, self.weights, self.bias)\n",
    "        \n",
    "class MyReLU_mod(nn.Module):\n",
    "    def __init__(self):\n",
    "        super(MyReLU_mod, self).__init__()\n",
    "        \n",
    "    def forward(self, x):\n",
    "        return torch.max(x, torch.tensor(0.))"
   ]
  },
  {
   "attachments": {},
   "cell_type": "markdown",
   "metadata": {},
   "source": [
    "Define your network using `MyLinear_mod`, `MyReLU_mod` and [`nn.Sigmoid`](https://pytorch.org/docs/stable/nn.html#sigmoid)"
   ]
  },
  {
   "cell_type": "code",
   "execution_count": null,
   "id": "540af9f9",
   "metadata": {},
   "outputs": [
    {
     "data": {
      "text/plain": [
       "(40000, 3000)"
      ]
     },
     "execution_count": 80,
     "metadata": {},
     "output_type": "execute_result"
    }
   ],
   "source": [
    "X_train_vec.shape"
   ]
  },
  {
   "cell_type": "code",
   "execution_count": null,
   "id": "50c9701e",
   "metadata": {},
   "outputs": [],
   "source": [
    "y_train_np = y_train.to_numpy()\n",
    "y_test_np = y_test.to_numpy()"
   ]
  },
  {
   "cell_type": "code",
   "execution_count": null,
   "id": "8ce954d6",
   "metadata": {},
   "outputs": [],
   "source": [
    "X_train_tensor = torch.tensor(X_train_vec.toarray(), dtype=torch.float32)\n",
    "y_train_tensor = torch.tensor(y_train_np, dtype=torch.float32).view(-1, 1)\n",
    "X_test_tensor = torch.tensor(X_test_vec.toarray(), dtype=torch.float32)\n",
    "y_test_tensor = torch.tensor(y_test_np, dtype=torch.float32).view(-1, 1)"
   ]
  },
  {
   "cell_type": "code",
   "execution_count": null,
   "id": "9b8a5c90",
   "metadata": {},
   "outputs": [],
   "source": [
    "from torch.utils.data import TensorDataset, DataLoader\n",
    "\n",
    "train_dataset = TensorDataset(X_train_tensor, y_train_tensor)\n",
    "test_dataset = TensorDataset(X_test_tensor, y_test_tensor)\n",
    "\n",
    "batch_size = 128\n",
    "train_loader = DataLoader(train_dataset, batch_size=batch_size, shuffle=True)\n",
    "test_loader = DataLoader(test_dataset, batch_size=batch_size, shuffle=False)"
   ]
  },
  {
   "cell_type": "code",
   "execution_count": null,
   "id": "063114f9",
   "metadata": {},
   "outputs": [],
   "source": [
    "NEURONS = 128\n",
    "# model = nn.Sequential(\n",
    "#     MyLinear_mod(3000,NEURONS),\n",
    "#     MyReLU_mod(),\n",
    "#     MyLinear_mod(NEURONS, NEURONS),\n",
    "#     MyReLU_mod(),\n",
    "#     MyLinear_mod(NEURONS, NEURONS),\n",
    "#     MyReLU_mod(),\n",
    "#     MyLinear_mod(NEURONS, 1),\n",
    "#     nn.Sigmoid()\n",
    "# )\n",
    "# model = nn.Sequential(\n",
    "#     MyLinear_mod(3000,NEURONS),\n",
    "#     nn.ReLU(),\n",
    "#     MyLinear_mod(NEURONS, NEURONS),\n",
    "#     nn.ReLU(),\n",
    "#     MyLinear_mod(NEURONS, NEURONS),\n",
    "#     nn.ReLU(),\n",
    "#     MyLinear_mod(NEURONS, 1),\n",
    "#     nn.Sigmoid()\n",
    "# )\n",
    "\n",
    "model = nn.Sequential(\n",
    "    nn.Linear(3000,NEURONS),\n",
    "    nn.ReLU(),\n",
    "    nn.Linear(NEURONS, NEURONS),\n",
    "    nn.ReLU(),\n",
    "    nn.Linear(NEURONS, NEURONS),\n",
    "    nn.ReLU(),\n",
    "    nn.Linear(NEURONS, 1),\n",
    "    nn.Sigmoid()\n",
    ")"
   ]
  },
  {
   "cell_type": "code",
   "execution_count": null,
   "id": "657af0f9",
   "metadata": {},
   "outputs": [
    {
     "name": "stderr",
     "output_type": "stream",
     "text": [
      "Epoch 1: 100%|██████████| 313/313 [00:02<00:00, 135.70it/s, Loss=0.692, Accuracy=0.51%]\n"
     ]
    },
    {
     "name": "stdout",
     "output_type": "stream",
     "text": [
      "test: 0.505\n"
     ]
    },
    {
     "name": "stderr",
     "output_type": "stream",
     "text": [
      "Epoch 2: 100%|██████████| 313/313 [00:02<00:00, 144.30it/s, Loss=0.681, Accuracy=0.54%]\n"
     ]
    },
    {
     "name": "stdout",
     "output_type": "stream",
     "text": [
      "test: 0.5059\n"
     ]
    },
    {
     "name": "stderr",
     "output_type": "stream",
     "text": [
      "Epoch 3:  59%|█████▉    | 185/313 [00:01<00:01, 94.08it/s, Loss=0.581, Accuracy=0.66%] \n"
     ]
    },
    {
     "ename": "RuntimeError",
     "evalue": "all elements of input should be between 0 and 1",
     "output_type": "error",
     "traceback": [
      "\u001b[1;31m---------------------------------------------------------------------------\u001b[0m",
      "\u001b[1;31mRuntimeError\u001b[0m                              Traceback (most recent call last)",
      "\u001b[1;32m~\\AppData\\Local\\Temp/ipykernel_14980/2508950929.py\u001b[0m in \u001b[0;36m<module>\u001b[1;34m\u001b[0m\n\u001b[0;32m     22\u001b[0m \u001b[1;33m\u001b[0m\u001b[0m\n\u001b[0;32m     23\u001b[0m         \u001b[0mout\u001b[0m \u001b[1;33m=\u001b[0m \u001b[0mmodel\u001b[0m\u001b[1;33m(\u001b[0m\u001b[0mfeatures\u001b[0m\u001b[1;33m)\u001b[0m\u001b[1;33m\u001b[0m\u001b[1;33m\u001b[0m\u001b[0m\n\u001b[1;32m---> 24\u001b[1;33m         \u001b[0mloss\u001b[0m \u001b[1;33m=\u001b[0m \u001b[0mcriterion\u001b[0m\u001b[1;33m(\u001b[0m\u001b[0mout\u001b[0m\u001b[1;33m,\u001b[0m \u001b[0mlabels\u001b[0m\u001b[1;33m)\u001b[0m\u001b[1;33m\u001b[0m\u001b[1;33m\u001b[0m\u001b[0m\n\u001b[0m\u001b[0;32m     25\u001b[0m         \u001b[1;31m#print(labels.shape)\u001b[0m\u001b[1;33m\u001b[0m\u001b[1;33m\u001b[0m\u001b[1;33m\u001b[0m\u001b[0m\n\u001b[0;32m     26\u001b[0m         \u001b[0mloss\u001b[0m\u001b[1;33m.\u001b[0m\u001b[0mbackward\u001b[0m\u001b[1;33m(\u001b[0m\u001b[1;33m)\u001b[0m\u001b[1;33m\u001b[0m\u001b[1;33m\u001b[0m\u001b[0m\n",
      "\u001b[1;32mc:\\Users\\ALI\\AppData\\Local\\Programs\\Python\\Python39\\lib\\site-packages\\torch\\nn\\modules\\module.py\u001b[0m in \u001b[0;36m_call_impl\u001b[1;34m(self, *args, **kwargs)\u001b[0m\n\u001b[0;32m   1499\u001b[0m                 \u001b[1;32mor\u001b[0m \u001b[0m_global_backward_pre_hooks\u001b[0m \u001b[1;32mor\u001b[0m \u001b[0m_global_backward_hooks\u001b[0m\u001b[1;33m\u001b[0m\u001b[1;33m\u001b[0m\u001b[0m\n\u001b[0;32m   1500\u001b[0m                 or _global_forward_hooks or _global_forward_pre_hooks):\n\u001b[1;32m-> 1501\u001b[1;33m             \u001b[1;32mreturn\u001b[0m \u001b[0mforward_call\u001b[0m\u001b[1;33m(\u001b[0m\u001b[1;33m*\u001b[0m\u001b[0margs\u001b[0m\u001b[1;33m,\u001b[0m \u001b[1;33m**\u001b[0m\u001b[0mkwargs\u001b[0m\u001b[1;33m)\u001b[0m\u001b[1;33m\u001b[0m\u001b[1;33m\u001b[0m\u001b[0m\n\u001b[0m\u001b[0;32m   1502\u001b[0m         \u001b[1;31m# Do not call functions when jit is used\u001b[0m\u001b[1;33m\u001b[0m\u001b[1;33m\u001b[0m\u001b[1;33m\u001b[0m\u001b[0m\n\u001b[0;32m   1503\u001b[0m         \u001b[0mfull_backward_hooks\u001b[0m\u001b[1;33m,\u001b[0m \u001b[0mnon_full_backward_hooks\u001b[0m \u001b[1;33m=\u001b[0m \u001b[1;33m[\u001b[0m\u001b[1;33m]\u001b[0m\u001b[1;33m,\u001b[0m \u001b[1;33m[\u001b[0m\u001b[1;33m]\u001b[0m\u001b[1;33m\u001b[0m\u001b[1;33m\u001b[0m\u001b[0m\n",
      "\u001b[1;32mc:\\Users\\ALI\\AppData\\Local\\Programs\\Python\\Python39\\lib\\site-packages\\torch\\nn\\modules\\loss.py\u001b[0m in \u001b[0;36mforward\u001b[1;34m(self, input, target)\u001b[0m\n\u001b[0;32m    617\u001b[0m \u001b[1;33m\u001b[0m\u001b[0m\n\u001b[0;32m    618\u001b[0m     \u001b[1;32mdef\u001b[0m \u001b[0mforward\u001b[0m\u001b[1;33m(\u001b[0m\u001b[0mself\u001b[0m\u001b[1;33m,\u001b[0m \u001b[0minput\u001b[0m\u001b[1;33m:\u001b[0m \u001b[0mTensor\u001b[0m\u001b[1;33m,\u001b[0m \u001b[0mtarget\u001b[0m\u001b[1;33m:\u001b[0m \u001b[0mTensor\u001b[0m\u001b[1;33m)\u001b[0m \u001b[1;33m->\u001b[0m \u001b[0mTensor\u001b[0m\u001b[1;33m:\u001b[0m\u001b[1;33m\u001b[0m\u001b[1;33m\u001b[0m\u001b[0m\n\u001b[1;32m--> 619\u001b[1;33m         \u001b[1;32mreturn\u001b[0m \u001b[0mF\u001b[0m\u001b[1;33m.\u001b[0m\u001b[0mbinary_cross_entropy\u001b[0m\u001b[1;33m(\u001b[0m\u001b[0minput\u001b[0m\u001b[1;33m,\u001b[0m \u001b[0mtarget\u001b[0m\u001b[1;33m,\u001b[0m \u001b[0mweight\u001b[0m\u001b[1;33m=\u001b[0m\u001b[0mself\u001b[0m\u001b[1;33m.\u001b[0m\u001b[0mweight\u001b[0m\u001b[1;33m,\u001b[0m \u001b[0mreduction\u001b[0m\u001b[1;33m=\u001b[0m\u001b[0mself\u001b[0m\u001b[1;33m.\u001b[0m\u001b[0mreduction\u001b[0m\u001b[1;33m)\u001b[0m\u001b[1;33m\u001b[0m\u001b[1;33m\u001b[0m\u001b[0m\n\u001b[0m\u001b[0;32m    620\u001b[0m \u001b[1;33m\u001b[0m\u001b[0m\n\u001b[0;32m    621\u001b[0m \u001b[1;33m\u001b[0m\u001b[0m\n",
      "\u001b[1;32mc:\\Users\\ALI\\AppData\\Local\\Programs\\Python\\Python39\\lib\\site-packages\\torch\\nn\\functional.py\u001b[0m in \u001b[0;36mbinary_cross_entropy\u001b[1;34m(input, target, weight, size_average, reduce, reduction)\u001b[0m\n\u001b[0;32m   3096\u001b[0m         \u001b[0mweight\u001b[0m \u001b[1;33m=\u001b[0m \u001b[0mweight\u001b[0m\u001b[1;33m.\u001b[0m\u001b[0mexpand\u001b[0m\u001b[1;33m(\u001b[0m\u001b[0mnew_size\u001b[0m\u001b[1;33m)\u001b[0m\u001b[1;33m\u001b[0m\u001b[1;33m\u001b[0m\u001b[0m\n\u001b[0;32m   3097\u001b[0m \u001b[1;33m\u001b[0m\u001b[0m\n\u001b[1;32m-> 3098\u001b[1;33m     \u001b[1;32mreturn\u001b[0m \u001b[0mtorch\u001b[0m\u001b[1;33m.\u001b[0m\u001b[0m_C\u001b[0m\u001b[1;33m.\u001b[0m\u001b[0m_nn\u001b[0m\u001b[1;33m.\u001b[0m\u001b[0mbinary_cross_entropy\u001b[0m\u001b[1;33m(\u001b[0m\u001b[0minput\u001b[0m\u001b[1;33m,\u001b[0m \u001b[0mtarget\u001b[0m\u001b[1;33m,\u001b[0m \u001b[0mweight\u001b[0m\u001b[1;33m,\u001b[0m \u001b[0mreduction_enum\u001b[0m\u001b[1;33m)\u001b[0m\u001b[1;33m\u001b[0m\u001b[1;33m\u001b[0m\u001b[0m\n\u001b[0m\u001b[0;32m   3099\u001b[0m \u001b[1;33m\u001b[0m\u001b[0m\n\u001b[0;32m   3100\u001b[0m \u001b[1;33m\u001b[0m\u001b[0m\n",
      "\u001b[1;31mRuntimeError\u001b[0m: all elements of input should be between 0 and 1"
     ]
    }
   ],
   "source": [
    "from torch import optim\n",
    "from tqdm import tqdm\n",
    "\n",
    "\n",
    "optimizer = optim.SGD(model.parameters(), lr=0.1)\n",
    "#optimizer = optim.RMSprop(model.parameters(), lr=0.001)\n",
    "\n",
    "losses = []\n",
    "criterion = nn.BCELoss()\n",
    "epochs = 20\n",
    "for epoch in range(epochs):\n",
    "    model.train()\n",
    "    \n",
    "    train_num_correct = 0\n",
    "    train_num_samples = 0\n",
    "    \n",
    "    pbar = tqdm(train_loader, desc=f\"Epoch {epoch+1}\")\n",
    "\n",
    "    loss_sum = 0\n",
    "    for batch_idx, (features, labels) in enumerate(pbar):\n",
    "        optimizer.zero_grad()\n",
    "\n",
    "        out = model(features)\n",
    "        loss = criterion(out, labels)\n",
    "        #print(labels.shape)\n",
    "        loss.backward()\n",
    "        optimizer.step()\n",
    "        loss_sum += loss.item()\n",
    "        binary_preds = (out > 0.5).float()\n",
    "        train_num_correct += (binary_preds.int() == labels.int()).sum().item()\n",
    "        train_num_samples += labels.size(0)\n",
    "        accuracy = train_num_correct / train_num_samples\n",
    "        pbar.set_postfix({'Loss': loss.item(), 'Accuracy': f'{accuracy:.2f}%'})\n",
    "    losses.append(loss_sum / train_num_samples)\n",
    "\n",
    "    #print(f\"train: {train_num_correct / train_num_samples}\")\n",
    "    model.eval()\n",
    "    \n",
    "    test_num_correct = 0\n",
    "    test_num_samples = 0\n",
    "\n",
    "    # evaluate model on test dataset\n",
    "    with torch.no_grad():\n",
    "        for inputs, targets in test_loader:\n",
    "            # compute outputs\n",
    "            outputs = model(inputs)\n",
    "            \n",
    "            # calculate test accuracy\n",
    "            binary_preds = (outputs > 0.5).float()\n",
    "            #print(targets.shape)\n",
    "            targets = targets.reshape((-1, 1))\n",
    "            test_num_correct += (binary_preds == targets).sum().item()\n",
    "            test_num_samples += targets.size(0)\n",
    "        print(f\"test: {test_num_correct / test_num_samples}\")\n",
    "        "
   ]
  },
  {
   "cell_type": "code",
   "execution_count": null,
   "id": "852fb3f9",
   "metadata": {},
   "outputs": [
    {
     "data": {
      "text/plain": [
       "[<matplotlib.lines.Line2D at 0x198c5ba1040>]"
      ]
     },
     "execution_count": 91,
     "metadata": {},
     "output_type": "execute_result"
    },
    {
     "data": {
      "image/png": "[encoded data removed]",
      "text/plain": [
       "<Figure size 432x288 with 1 Axes>"
      ]
     },
     "metadata": {
      "needs_background": "light"
     },
     "output_type": "display_data"
    }
   ],
   "source": [
    "plt.plot(losses)"
   ]
  }
 ],
 "metadata": {
  "kernelspec": {
   "display_name": "Python 3",
   "language": "python",
   "name": "python3"
  },
  "language_info": {
   "codemirror_mode": {
    "name": "ipython",
    "version": 3
   },
   "file_extension": ".py",
   "mimetype": "text/x-python",
   "name": "python",
   "nbconvert_exporter": "python",
   "pygments_lexer": "ipython3",
   "version": "3.11.0"
  },
  "vscode": {
   "interpreter": {
    "hash": "e534e48711db4d1e1c48977d0d14ff85b1f16d41bcc4fdfd88268a329b3c9d66"
   }
  }
 },
 "nbformat": 4,
 "nbformat_minor": 5
}
