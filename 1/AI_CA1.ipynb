{
 "cells": [
  {
   "attachments": {},
   "cell_type": "markdown",
   "metadata": {},
   "source": [
    "<html>\n",
    "<div>\n",
    "  <img src=\"https://www.engineersgarage.com/wp-content/uploads/2021/11/TCH36-01-scaled.jpg\" width=360px width=auto style=\"vertical-align: middle;\">\n",
    "  <span style=\"font-family: Georgia; font-size:30px; color: white;\"> <br/> University of Tehran <br/> AI_CA0 <br/> Spring 02 </span>\n",
    "</div>\n",
    "<span style=\"font-family: Georgia; font-size:15pt; color: white; vertical-align: middle;\"> low_mist - std id: 810100186 </span>\n",
    "</html>\n",
    "\n",
    "in this notebook we are to solve a searching problem with different uninformed and informed search approaches such as BFS, IDS, A* and Weighted A*"
   ]
  },
  {
   "attachments": {},
   "cell_type": "markdown",
   "metadata": {},
   "source": [
    "Ok first we define the directory in which we have the tests in order to run different algorithms"
   ]
  },
  {
   "cell_type": "code",
   "execution_count": 19,
   "metadata": {},
   "outputs": [],
   "source": [
    "TEST_DIRECTORY = \"Tests/\""
   ]
  },
  {
   "attachments": {},
   "cell_type": "markdown",
   "metadata": {},
   "source": [
    "## Graph and States\n",
    "first we have to define the graph components.  \n",
    "`Node` contains the types.  \n",
    "`Edge` contains the types plus it's unsafe time list if it's rickety (it's a list that shows if we cross for the ith time we have to wait for some seconds so it's safe again to cross).  \n",
    "and a dictionary mapping rickety edges to how many times they have been crossed."
   ]
  },
  {
   "cell_type": "code",
   "execution_count": 24,
   "metadata": {},
   "outputs": [],
   "source": [
    "from dataclasses import dataclass, field, fields, _MISSING_TYPE\n",
    "from typing import Any, Callable\n",
    "from enum import Flag, auto\n",
    "\n",
    "class EdgeType(Flag):\n",
    "    NORMAL = auto()\n",
    "    RICKETY = auto()\n",
    "\n",
    "@dataclass\n",
    "class Edge:\n",
    "    destination: int\n",
    "    type: EdgeType\n",
    "    wait_for: int\n",
    "    weight: int\n",
    "    id: int\n",
    "    \n",
    "class NodeType(Flag):\n",
    "    NORMAL = auto()\n",
    "    PIZZA = auto()\n",
    "    STUDENT = auto()\n",
    "\n",
    "@dataclass\n",
    "class Node:\n",
    "    edges: list[Edge]\n",
    "    type: NodeType"
   ]
  },
  {
   "attachments": {},
   "cell_type": "markdown",
   "metadata": {},
   "source": [
    "now that we have edges and nodes we define the graph that contains some extra information compared to normal graphs namely, order of students, map from pizza to students."
   ]
  },
  {
   "cell_type": "code",
   "execution_count": 21,
   "metadata": {},
   "outputs": [],
   "source": [
    "class Graph:\n",
    "    '''this class is only the graph connection of problem not agent's state'''\n",
    "    def __init__(self, n : int):\n",
    "        self.num_of_nodes = n\n",
    "        self.nodes = [Node([], NodeType.NORMAL) for _ in range(n)]\n",
    "        # self.rackety_edges: set(int) = set()\n",
    "        # self.edges: list[tuple(int, int)] = list()\n",
    "        # self.pizzas_location: set[int] = set()\n",
    "        self.students_location: set[int] = set()\n",
    "        self.pizzas_corresponding_students: dict[int, int] = dict()\n",
    "        self.priority_queues = list[tuple[int, int]] = list()\n",
    "        \n",
    "    # def add_edges(self, origin: int, destination: int, weight: int = 0): \n",
    "    #     self.edges.append((origin, destination))\n",
    "    #     self.nodes[origin].edges.append(Edge(destination, EdgeType.NORMAL, 0, weight)) #zero is for waiting time\n",
    "    #     self.nodes[destination].edges.append(Edge(origin, EdgeType.NORMAL, 0, weight))\n",
    "        \n",
    "    # def add_rickety_edges(self, origin: int, destination: int, waiting_time: int, weight: int = 0):  \n",
    "    #     self.edges.append((origin, destination))\n",
    "    #     self.nodes[origin].edges.append(Edge(destination, EdgeType.RICKETY, waiting_time, weight)) #zero is for waiting time\n",
    "    #     self.nodes[destination].edges.append(Edge(origin, EdgeType.RICKETY, waiting_time, weight))\n",
    "        \n",
    "    def add_edges(self, origin: int, destination: int, type: EdgeType, id: int, wait_for: int = 0, weight: int = 0): \n",
    "        # self.rackety_edges.append((origin, destination))\n",
    "        self.nodes[origin].edges.append(Edge(destination, type, wait_for, weight, id)) \n",
    "        self.nodes[destination].edges.append(Edge(origin, type, wait_for, weight, id))\n",
    "        \n",
    "    def add_pizza_and_student(self, student_position: int, pizza_position: int):\n",
    "        self.students_location.add(student_position)\n",
    "        self.pizzas_corresponding_students[pizza_position] = student_position\n",
    "        \n",
    "    def add_priority(self, priority: tuple[int, int]):\n",
    "        self.priority_queues.append(priority)"
   ]
  },
  {
   "attachments": {},
   "cell_type": "markdown",
   "metadata": {},
   "source": [
    "now it's time to describe the states in which our agents will be during execution of search.  \n",
    "this `State` class contains information about the world such as our position and left pizzas' locations and so forth, about agent itself like the path it has taken to get here and such things.  \n",
    "\n",
    "the properties in our states are two types:\n",
    "* criteria in determining uniqueness\n",
    "    * `agent_position`: which shows the agent's position.\n",
    "    * `left_pizzas`: which depicts the left pizzas position and their corresponding student positions.\n",
    "    * `time_elapsed`: the amount of time (in seconds) that has passed since we started the search.\n",
    "    <!-- * `pizzas_carrying`: a dictionary containing the pizzas that we are carrying right now with their destination (note: it's said in problem that we can only carry one pizza at a time but we imagine that we can carry all of them and if we decide to deliver some pizza we will drop all other pizzas). -->\n",
    "    * `pizza_carrying`: the tuple which contains the pizza position and the student to whom we have to deliver the pizza. (if it exists)\n",
    "* not important in determining uniqueness\n",
    "    * `path`: which demonstrates the path we have taken to get here\n",
    "    * `satisfied_students`: which indicates the students are given their pizzas\n",
    "    * `wait_till_for_rickety_edges`: a map for keep tracking of time that we have to wait\n",
    "    <!-- * `pizzas_passed`: number of pizzas that we have passed -->"
   ]
  },
  {
   "cell_type": "code",
   "execution_count": 25,
   "metadata": {},
   "outputs": [],
   "source": [
    "@dataclass \n",
    "class State:\n",
    "    agent_position: int\n",
    "    left_pizzas: dict[int, int]\n",
    "    time_elapsed: int = field(default_factory = 0)\n",
    "    # pizzas_carrying: dict[int, int] = dict()\n",
    "    pizza_carrying = tuple[int, int] = field(default_factory = lambda: tuple(None, None))\n",
    "    path: list[int] = field(default_factory = lambda: list())\n",
    "    satisfied_students: set[int] = field(default_factory = lambda: set())\n",
    "    pizzas_passed: int = field(default_factory = 0)\n",
    "    available_time_edge: dict[int, int] = field(default_factory = lambda: dict())\n",
    "    \n",
    "    # def __post_init__(self):\n",
    "    #     for field in fields(self):\n",
    "    #         if not isinstance(field.default, _MISSING_TYPE) and getattr(self, field.name) is None:\n",
    "    #             setattr(self, field.name, field.default)\n",
    "\n",
    "    def _tuple(self):\n",
    "        # return (self.agent_position, self.time_elapsed, self.pizzas_carrying, self.left_pizzas)\n",
    "        return (self.agent_position, self.time_elapsed, self.left_pizzas)\n",
    "    \n",
    "    def __eq__(self, other: Any) -> bool:\n",
    "        return (isinstance(other, State)) and (hash(self._tuple) == hash(other._tuple))"
   ]
  },
  {
   "attachments": {},
   "cell_type": "markdown",
   "metadata": {},
   "source": [
    "next we define some useful functions for our agent.  \n",
    "- `has_reached_goad`: simply checks whether there is any pizza left or not.\n",
    "- `initial_state`: to find out where we are at start of the game\n",
    "- `actions`: this function gets an state and returns the list of all actions that is available"
   ]
  },
  {
   "cell_type": "code",
   "execution_count": null,
   "metadata": {},
   "outputs": [],
   "source": [
    "from copy import deepcopy\n",
    "class Agent:\n",
    "    @staticmethod\n",
    "    def has_reached_goal(state: State) -> bool:\n",
    "        return len(state.left_pizzas) == 0\n",
    "\n",
    "    @staticmethod\n",
    "    def initial_state(graph: Graph, start_position: int) -> State:\n",
    "        return State(\n",
    "            agent_position = start_position,\n",
    "            left_pizzas =  graph.pizzas_corresponding_students, \n",
    "            path = [start_position])  \n",
    "              \n",
    "    @staticmethod\n",
    "    def actions(graph: Graph, state: State) -> list[State]:\n",
    "        ans = list()\n",
    "        for edge in graph.nodes[state.agent_position].edges:\n",
    "            new_state = deepcopy(state)\n",
    "            new_agent_position = edge.destination\n",
    "            if EdgeType.RICKETY in edge.type:\n",
    "                if not edge.id in state.available_time_edge or \\\n",
    "                    state.available_time_edge[edge.id] > state.time_elapsed:\n",
    "                    state.available_time_edge[edge.id] = state.time_elapsed + edge.wait_for\n",
    "                else:\n",
    "                    new_agent_position = state.agent_position # cause we won't move\n",
    "            \n",
    "            new_state.path.append(new_agent_position)\n",
    "            # TODO: add other actions based on node type             \n",
    "            new_state.time_elapsed += 1\n",
    "            ans.append(new_state)\n",
    "              \n",
    "                \n",
    "            \n",
    "            "
   ]
  }
 ],
 "metadata": {
  "kernelspec": {
   "display_name": "Python 3",
   "language": "python",
   "name": "python3"
  },
  "language_info": {
   "codemirror_mode": {
    "name": "ipython",
    "version": 3
   },
   "file_extension": ".py",
   "mimetype": "text/x-python",
   "name": "python",
   "nbconvert_exporter": "python",
   "pygments_lexer": "ipython3",
   "version": "3.11.0"
  },
  "orig_nbformat": 4
 },
 "nbformat": 4,
 "nbformat_minor": 2
}
