{
 "cells": [
  {
   "attachments": {},
   "cell_type": "markdown",
   "metadata": {},
   "source": [
    "<html>\n",
    "<div>\n",
    "  <img src=\"https://www.engineersgarage.com/wp-content/uploads/2021/11/TCH36-01-scaled.jpg\" width=360px width=auto style=\"vertical-align: middle;\">\n",
    "  <span style=\"font-family: Georgia; font-size:30px; color: white;\"> <br/> University of Tehran <br/> AI_CA0 <br/> Spring 02 </span>\n",
    "</div>\n",
    "<span style=\"font-family: Georgia; font-size:15pt; color: white; vertical-align: middle;\"> low_mist - std id: 810100186 </span>\n",
    "</html>\n",
    "\n",
    "in this notebook we are to solve a searching problem with different uninformed and informed search approaches such as BFS, IDS, A* and Weighted A*"
   ]
  },
  {
   "attachments": {},
   "cell_type": "markdown",
   "metadata": {},
   "source": [
    "Ok first we define the directory in which we have the tests in order to run different algorithms"
   ]
  },
  {
   "cell_type": "code",
   "execution_count": 7,
   "metadata": {},
   "outputs": [],
   "source": [
    "TEST_DIRECTORY = \"Tests/\""
   ]
  },
  {
   "attachments": {},
   "cell_type": "markdown",
   "metadata": {},
   "source": [
    "## Graph and States\n",
    "first we have to define the graph components.  \n",
    "`Node` contains the types.  \n",
    "`Edge` contains the types plus it's unsafe time list if it's rickety (it's a list that shows if we cross for the ith time we have to wait for about waiting_time seconds so it's safe again to cross).  \n",
    "and a dictionary mapping rickety edges to how many times they have been crossed."
   ]
  },
  {
   "cell_type": "code",
   "execution_count": 8,
   "metadata": {},
   "outputs": [],
   "source": [
    "from dataclasses import dataclass, fields, _MISSING_TYPE\n",
    "from typing import Any, Callable\n",
    "from enum import Flag, auto\n",
    "from copy import deepcopy\n",
    "\n",
    "class EdgeType(Flag):\n",
    "    NORMAL = auto()\n",
    "    RICKETY = auto()\n",
    "\n",
    "@dataclass\n",
    "class Edge:\n",
    "    destination: int\n",
    "    type: EdgeType\n",
    "    waiting_time: int\n",
    "    weight: int\n",
    "    \n",
    "class NodeType(Flag):\n",
    "    NORMAL = auto()\n",
    "    PIZZA = auto()\n",
    "    STUDENT = auto()\n",
    "\n",
    "@dataclass\n",
    "class Node:\n",
    "    edges: list[Edge]\n",
    "    type: NodeType\n",
    "  \n"
   ]
  },
  {
   "attachments": {},
   "cell_type": "markdown",
   "metadata": {},
   "source": [
    "now that we have edges and nodes we define the graph that contains some extra information compared to normal graphs namely, order of students, map from pizza to students."
   ]
  },
  {
   "cell_type": "code",
   "execution_count": 9,
   "metadata": {},
   "outputs": [],
   "source": [
    "class Graph:\n",
    "    '''this class is only the graph connection of problem not agent's state'''\n",
    "    def __init__(self, n : int):\n",
    "        self.num_of_nodes = n\n",
    "        self.nodes = [Node([], NodeType.NORMAL) for _ in range(n)]\n",
    "        # self.rackety_edges: set(int) = set()\n",
    "        # self.edges: list[tuple(int, int)] = list()\n",
    "        # self.pizzas_location: set[int] = set()\n",
    "        self.students_location: set[int] = set()\n",
    "        self.pizzas_corresponding_students: dict[int, int] = dict()\n",
    "        self.priority_queues = list[tuple[int, int]] = list()\n",
    "        \n",
    "    # def add_edges(self, origin: int, destination: int, weight: int = 0): \n",
    "    #     self.edges.append((origin, destination))\n",
    "    #     self.nodes[origin].edges.append(Edge(destination, EdgeType.NORMAL, 0, weight)) #zero is for waiting time\n",
    "    #     self.nodes[destination].edges.append(Edge(origin, EdgeType.NORMAL, 0, weight))\n",
    "        \n",
    "    # def add_rickety_edges(self, origin: int, destination: int, waiting_time: int, weight: int = 0):  \n",
    "    #     self.edges.append((origin, destination))\n",
    "    #     self.nodes[origin].edges.append(Edge(destination, EdgeType.RICKETY, waiting_time, weight)) #zero is for waiting time\n",
    "    #     self.nodes[destination].edges.append(Edge(origin, EdgeType.RICKETY, waiting_time, weight))\n",
    "        \n",
    "    def add_edges(self, origin: int, destination: int, type: EdgeType, waiting_time: int = 0, weight: int = 0): \n",
    "        # self.rackety_edges.append((origin, destination))\n",
    "        self.nodes[origin].edges.append(Edge(destination, type, waiting_time, weight)) \n",
    "        self.nodes[destination].edges.append(Edge(origin, type, waiting_time, weight))\n",
    "        \n",
    "    def add_pizza_and_student(self, student_position: int, pizza_position: int):\n",
    "        self.students_location.add(student_position)\n",
    "        self.pizzas_corresponding_students[pizza_position] = student_position\n",
    "        \n",
    "    def add_priority(self, priority: tuple[int, int]):\n",
    "        self.priority_queues.append(priority)"
   ]
  },
  {
   "attachments": {},
   "cell_type": "markdown",
   "metadata": {},
   "source": [
    "now it's time to describe the states in which our agents will be during execution of search.  \n",
    "this `State` class contains information about the world such as our position and left pizzas' locations and so forth, about agent itself like the path it has taken to get here and such things.  \n",
    "\n",
    "the properties in our states are two types:\n",
    "* criteria in determining uniqueness\n",
    "    * `agent_position`: which shows the agent's position.\n",
    "    * `left_pizzas`: which depicts the left pizzas position and their corresponding student positions.\n",
    "    * `time_elapsed`: the amount of time (in seconds) that has passed since we started the search.\n",
    "    * `pizzas_carrying`: a dictionary containing the pizzas that we are carrying right now with their destination (note: it's said in problem that we can only carry one pizza at a time but we imagine that we can carry all of them and if we decide to deliver some pizza we will drop all other pizzas).\n",
    "* not important in determining uniqueness\n",
    "    * `path`: which demonstrates the path we have taken to get here\n",
    "    * `satisfied_students`: which indicates the students are given their pizzas"
   ]
  },
  {
   "cell_type": "code",
   "execution_count": 11,
   "metadata": {},
   "outputs": [],
   "source": [
    "@dataclass \n",
    "class State:\n",
    "    agent_position: int\n",
    "    left_pizzas: dict[int, int]\n",
    "    time_elapsed: int = 0\n",
    "    pizzas_carrying: dict[int, int] = dict()\n",
    "    path: list[int] = list()\n",
    "    satisfied_students: set[int] = set()\n",
    "    \n",
    "    def __post_init__(self):\n",
    "        for field in fields(self):\n",
    "            if not isinstance(field.default, _MISSING_TYPE) and getattr(self, field.name) is None:\n",
    "                setattr(self, field.name, field.default)\n",
    "\n",
    "    def _tuple(self):\n",
    "        return (self.agent_position, self.time_elapsed, self.pizzas_carrying, self.left_pizzas)\n",
    "    \n",
    "    def __eq__(self, other: Any) -> bool:\n",
    "        return (isinstance(other, State)) and (hash(self._tuple) == hash(other._tuple))"
   ]
  },
  {
   "attachments": {},
   "cell_type": "markdown",
   "metadata": {},
   "source": [
    "next we define some useful functions for our agent.  \n",
    "- `has_reached_goad`: simply checks whether there is any pizza left or not.\n",
    "- `initial_state`: to find out where we are at start of the game\n",
    "- `actions`: this function gets an state and returns the list of all actions that is available"
   ]
  },
  {
   "cell_type": "code",
   "execution_count": null,
   "metadata": {},
   "outputs": [],
   "source": [
    "class Agent:\n",
    "    @staticmethod\n",
    "    def has_reached_goal(state: State) -> bool:\n",
    "        return len(state.left_pizzas) == 0\n",
    "\n",
    "    @staticmethod\n",
    "    def initial_state(graph: Graph, start_position: int) -> State:\n",
    "        return State(\n",
    "            agent_position = start_position,\n",
    "            left_pizzas =  graph.pizzas_corresponding_students, \n",
    "            time_elapsed = None,\n",
    "            pizzas_carrying = None, \n",
    "            path = [start_position], \n",
    "            satisfied_students = None)\n",
    "        \n",
    "    @staticmethod\n",
    "    def actions(graph: Graph, state: State) -> list[tuple[State, int]]:\n",
    "        pass"
   ]
  }
 ],
 "metadata": {
  "kernelspec": {
   "display_name": "Python 3",
   "language": "python",
   "name": "python3"
  },
  "language_info": {
   "codemirror_mode": {
    "name": "ipython",
    "version": 3
   },
   "file_extension": ".py",
   "mimetype": "text/x-python",
   "name": "python",
   "nbconvert_exporter": "python",
   "pygments_lexer": "ipython3",
   "version": "3.11.0"
  },
  "orig_nbformat": 4
 },
 "nbformat": 4,
 "nbformat_minor": 2
}
