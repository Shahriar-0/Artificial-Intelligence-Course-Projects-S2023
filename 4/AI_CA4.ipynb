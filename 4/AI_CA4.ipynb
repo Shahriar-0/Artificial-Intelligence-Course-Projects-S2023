{
 "cells": [
  {
   "attachments": {},
   "cell_type": "markdown",
   "metadata": {},
   "source": [
    "<html>\n",
    "<div>\n",
    "  <img src=\"https://www.engineersgarage.com/wp-content/uploads/2021/11/TCH36-01-scaled.jpg\" width=360px width=auto style=\"vertical-align: middle;\">\n",
    "  <span style=\"font-family: Georgia; font-size:30px; color: white;\"> <br/> University of Tehran <br/> AI_CA2 <br/> Spring 02 </span>\n",
    "</div>\n",
    "<span style=\"font-family: Georgia; font-size:15pt; color: white; vertical-align: middle;\"> low_mist - std id: 810100186 </span>\n",
    "</html>\n",
    "\n",
    "in this notebook we are to learn about "
   ]
  }
 ],
 "metadata": {
  "language_info": {
   "name": "python"
  },
  "orig_nbformat": 4
 },
 "nbformat": 4,
 "nbformat_minor": 2
}
