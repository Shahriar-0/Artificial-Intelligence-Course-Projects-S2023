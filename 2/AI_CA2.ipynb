{
 "cells": [
  {
   "attachments": {},
   "cell_type": "markdown",
   "metadata": {},
   "source": [
    "<html>\n",
    "<div>\n",
    "  <img src=\"https://www.engineersgarage.com/wp-content/uploads/2021/11/TCH36-01-scaled.jpg\" width=360px width=auto style=\"vertical-align: middle;\">\n",
    "  <span style=\"font-family: Georgia; font-size:30px; color: white;\"> <br/> University of Tehran <br/> AI_CA2 <br/> Spring 02 </span>\n",
    "</div>\n",
    "<span style=\"font-family: Georgia; font-size:15pt; color: white; vertical-align: middle;\"> low_mist - std id: 810100186 </span>\n",
    "</html>\n",
    "\n",
    "in this notebook we are to learn about genetic algorithms and how we can use them to find results when ordinary search algorithms are not effective."
   ]
  },
  {
   "attachments": {},
   "cell_type": "markdown",
   "metadata": {},
   "source": [
    "## Problem Description\n",
    "in this problem we are given return and risk of investment in some companies (in a sample.csv file) and we want to find coefficients for each company so that we gain  a certain amount of profit and other constraints that are as below:\n",
    "- return should at least be 1000 percent\n",
    "- risk should be at most 60 percent\n",
    "- we have to invest in at least 30 different companies\n",
    "a sample result is given in sample_coeffs.csv file.\n",
    "Since normal search algorithms wont be effective here we use genetic algorithms to find a solution. In this algorithm we start that is derived from natural selection we have an initial population which will evolve over time so that only the best survives."
   ]
  },
  {
   "attachments": {},
   "cell_type": "markdown",
   "metadata": {},
   "source": [
    "## Modeling\n",
    "\n",
    "### Consts\n",
    "Since we have lots of const variables like chance of mutation and so forth, I decided to store all of them in a class."
   ]
  },
  {
   "cell_type": "code",
   "execution_count": 4,
   "metadata": {},
   "outputs": [],
   "source": [
    "from __future__ import annotations\n",
    "import random\n",
    "import bisect\n",
    "from dataclasses import dataclass\n",
    "from itertools import accumulate\n",
    "import pandas as pd\n",
    "from copy import deepcopy\n",
    "from typing import Any, Callable, Optional\n",
    "\n",
    "@dataclass\n",
    "class Consts:\n",
    "    crossover_probability: int \n",
    "    mutation_probability: int\n",
    "    maximum_number_of_evolutions: int\n",
    "    carry_percentage: int\n",
    "    chromosome_size: int\n",
    "    return_list: list[float]\n",
    "    risk_list: list[float]\n",
    "    return_threshold: float\n",
    "    risk_threshold: float\n",
    "    num_of_investments_threshold: int\n",
    "    population_size: int"
   ]
  },
  {
   "attachments": {},
   "cell_type": "markdown",
   "metadata": {},
   "source": [
    "## DataFrame\n",
    "We should read csv file and store it in a data frame and then get return and risk information. "
   ]
  },
  {
   "cell_type": "code",
   "execution_count": 5,
   "metadata": {},
   "outputs": [],
   "source": [
    "CSV_ADDRESS = \"assets/sample.csv\"\n",
    "df = pd.read_csv(CSV_ADDRESS)\n",
    "\n",
    "consts = Consts(\n",
    "    crossover_probability = 0.6,\n",
    "    mutation_probability = 0.1,\n",
    "    chromosome_size = len(df[\"Unnamed: 0\"]),\n",
    "    carry_percentage = 0.2,\n",
    "    maximum_number_of_evolutions = 1000,\n",
    "    return_list = df[\"return\"],\n",
    "    risk_list = df[\"risk\"],\n",
    "    population_size = 400,\n",
    "    return_threshold = 10,\n",
    "    risk_threshold = 0.6,\n",
    "    num_of_investments_threshold = 30\n",
    ")"
   ]
  },
  {
   "attachments": {},
   "cell_type": "markdown",
   "metadata": {},
   "source": [
    "### Chromosome\n",
    "It is every individual in our population. every gene equals to a coefficient which shows how much we invest in that company. It has some useful methods like mutation, mating, etc.\n",
    "- `mutate` is a function which mutates the current chromosome\n",
    "- `mate` takes another chromosome and returns a new offspring of that chromosome\n",
    "- `calc_fitness` in genetic algorithms we need a fitness function to calculate how good this new chromosome is \n",
    "- `normalize` will change coefficients so that the sum is 1\n",
    "- `is_goal` check to see if have met the needs"
   ]
  },
  {
   "cell_type": "code",
   "execution_count": 6,
   "metadata": {},
   "outputs": [],
   "source": [
    "class Chromosome:\n",
    "    def __init__(self, coefficients: Optional[list[int]] = None):\n",
    "        if coefficients is not None:\n",
    "            self.coefficients = coefficients\n",
    "        else: \n",
    "            self.coefficients = [random.random() for _ in range(consts.chromosome_size)]\n",
    "        \n",
    "    def mutate(self):\n",
    "        if random.random() < consts.mutation_probability:\n",
    "            first_index = random.randint(0, consts.chromosome_size - 1)\n",
    "            second_index = random.randint(0, consts.chromosome_size - 1)\n",
    "            self.coefficients[first_index], self.coefficients[second_index] = self.coefficients[second_index], self.coefficients[first_index]\n",
    "            \n",
    "    def mate(self, other: Any) -> Chromosome:\n",
    "        if not isinstance(other, Chromosome):\n",
    "            raise ValueError(\"can't mate with another type\")\n",
    "        \n",
    "        if random.random() < consts.mutation_probability:\n",
    "            crossover_point = random.randint(0, consts.chromosome_size - 1)\n",
    "            if random.randint(0, 1) % 2 == 0:\n",
    "                offspring_coefficients = self.coefficients[:crossover_point] + other.coefficients[crossover_point:]\n",
    "            else:\n",
    "                offspring_coefficients = other.coefficients[:crossover_point] + self.coefficients[crossover_point:]\n",
    "            \n",
    "        return Chromosome(offspring_coefficients) \n",
    "    \n",
    "    def calc_return(self) -> float:\n",
    "        return sum([x * y for x, y in zip(self.coefficients, consts.return_list)])\n",
    "\n",
    "    def calc_risk(self) -> float:\n",
    "        return sum([i * j for i, j in zip(self.coefficients, consts.risk_list)])\n",
    "    \n",
    "    def calc_fitness(self) -> float:\n",
    "        return self.calc_return() - 2 * self.calc_risk\n",
    "               \n",
    "    def normalize(self):\n",
    "        sum_of_coefficients = sum(self.coefficients)\n",
    "        self.coefficients = [x / sum_of_coefficients for x in self.coefficients]\n",
    "        \n",
    "    def is_goal(self) -> bool:\n",
    "        return sum([x * y for x, y in zip(self.coefficients, consts.return_list)]) >= consts.return_threshold and \\\n",
    "               sum([i * j for i, j in zip(self.coefficients, consts.risk_list)]) <= consts.risk_threshold and \\\n",
    "               len([i for i in self.coefficients if i != 0]) >= consts.num_of_investments_threshold"
   ]
  },
  {
   "attachments": {},
   "cell_type": "markdown",
   "metadata": {},
   "source": [
    "## Population\n",
    "The whole population which is consists of many chromosomes. It shows the world which we have now till next evolution."
   ]
  },
  {
   "cell_type": "code",
   "execution_count": null,
   "metadata": {},
   "outputs": [],
   "source": [
    "class Population:\n",
    "    def __init__(self):\n",
    "        self.chromosomes = [Chromosome() for _ in range(consts.population_size)]\n",
    "        \n",
    "    def found_goal(self) -> tuple[bool, Chromosome]:\n",
    "        for chromosome in self.chromosomes:\n",
    "            if chromosome.is_goal():\n",
    "                return True, chromosome\n",
    "        return False, None\n",
    "    \n",
    "    def evolve(self):\n",
    "        pass\n",
    "    \n",
    "    def genetic_algorithm(self) -> Chromosome:\n",
    "        num_of_evolutions = 0\n",
    "        while num_of_evolutions < consts.maximum_number_of_evolutions:\n",
    "            found, chromosome = self.found_goal()\n",
    "            if found:\n",
    "                return chromosome\n",
    "    \n",
    "            self.evolve()\n",
    "            num_of_evolutions += 1\n",
    "        return None\n",
    "        "
   ]
  }
 ],
 "metadata": {
  "kernelspec": {
   "display_name": "Python 3",
   "language": "python",
   "name": "python3"
  },
  "language_info": {
   "codemirror_mode": {
    "name": "ipython",
    "version": 3
   },
   "file_extension": ".py",
   "mimetype": "text/x-python",
   "name": "python",
   "nbconvert_exporter": "python",
   "pygments_lexer": "ipython3",
   "version": "3.11.0"
  },
  "orig_nbformat": 4
 },
 "nbformat": 4,
 "nbformat_minor": 2
}
