{
  "cells": [
    {
      "attachments": {},
      "cell_type": "markdown",
      "metadata": {},
      "source": [
        "<html>\n",
        "<div>\n",
        "  <img src=\"https://www.engineersgarage.com/wp-content/uploads/2021/11/TCH36-01-scaled.jpg\" width=360px width=auto style=\"vertical-align: middle;\">\n",
        "  <span style=\"font-family: Georgia; font-size:30px; color: white;\"> <br/> University of Tehran <br/> AI_CA0 <br/> Spring 02 </span>\n",
        "</div>\n",
        "<span style=\"font-family: Georgia; font-size:15pt; color: white; vertical-align: middle;\"> low_mist - std id: 810100186 </span>\n",
        "</html>"
      ]
    },
    {
      "cell_type": "code",
      "execution_count": 24,
      "metadata": {
        "id": "p4gl7xPdimK1"
      },
      "outputs": [],
      "source": [
        "import numpy as np\n",
        "import matplotlib as plt\n",
        "import pandas as pd\n",
        "\n",
        "TRAIN_FILE_ADDRESS = \"assets/train.csv\"\n",
        "TESR_FILE_ADDRESS = \"assets/test.csv\""
      ]
    },
    {
      "cell_type": "markdown",
      "metadata": {
        "id": "nqH_42oknWuR"
      },
      "source": [
        "1-\n"
      ]
    },
    {
      "cell_type": "code",
      "execution_count": 25,
      "metadata": {
        "id": "ENqvKt22nckU"
      },
      "outputs": [],
      "source": [
        "df = pd.read_csv(TRAIN_FILE_ADDRESS)\n",
        "df_backup = pd.read_csv(TRAIN_FILE_ADDRESS)"
      ]
    },
    {
      "attachments": {},
      "cell_type": "markdown",
      "metadata": {
        "id": "JRL30-F-n-oM"
      },
      "source": [
        "``info``:<br/>\n",
        "this method gives information about the database like column names and number of non-null values in each column <br/>\n",
        "or type of the column <br/>"
      ]
    },
    {
      "cell_type": "code",
      "execution_count": 26,
      "metadata": {
        "colab": {
          "base_uri": "https://localhost:8080/"
        },
        "id": "-_pLe66rn1ch",
        "outputId": "ec2cb382-4fbf-448d-f19e-7f4204df3fc5"
      },
      "outputs": [
        {
          "name": "stdout",
          "output_type": "stream",
          "text": [
            "<class 'pandas.core.frame.DataFrame'>\n",
            "RangeIndex: 29825 entries, 0 to 29824\n",
            "Data columns (total 15 columns):\n",
            " #   Column          Non-Null Count  Dtype \n",
            "---  ------          --------------  ----- \n",
            " 0   age             29825 non-null  int64 \n",
            " 1   workclass       28154 non-null  object\n",
            " 2   fnlwgt          29825 non-null  int64 \n",
            " 3   education       29825 non-null  object\n",
            " 4   education-num   29825 non-null  int64 \n",
            " 5   marital-status  29825 non-null  object\n",
            " 6   occupation      28149 non-null  object\n",
            " 7   relationship    29825 non-null  object\n",
            " 8   race            29825 non-null  object\n",
            " 9   sex             29825 non-null  object\n",
            " 10  capital-gain    29825 non-null  int64 \n",
            " 11  capital-loss    29825 non-null  int64 \n",
            " 12  hours-per-week  29825 non-null  int64 \n",
            " 13  native-country  29288 non-null  object\n",
            " 14  salary          29825 non-null  object\n",
            "dtypes: int64(6), object(9)\n",
            "memory usage: 3.4+ MB\n",
            "None\n"
          ]
        }
      ],
      "source": [
        "print(df.info())"
      ]
    },
    {
      "attachments": {},
      "cell_type": "markdown",
      "metadata": {
        "id": "dO_j0N8sob3N"
      },
      "source": [
        "``head and tail``:<br/>\n",
        "these methods respectively show us the first and last 5 rows<br/>\n",
        "they are generally used to peek at the data"
      ]
    },
    {
      "cell_type": "code",
      "execution_count": 27,
      "metadata": {
        "colab": {
          "base_uri": "https://localhost:8080/"
        },
        "id": "aHAmvGJ6nv0_",
        "outputId": "0c25d13a-e029-4a9b-a0b1-88e99526a750"
      },
      "outputs": [
        {
          "name": "stdout",
          "output_type": "stream",
          "text": [
            "   age         workclass  fnlwgt  education  education-num  \\\n",
            "0   39         State-gov   77516  Bachelors             13   \n",
            "1   50  Self-emp-not-inc   83311  Bachelors             13   \n",
            "2   38           Private  215646    HS-grad              9   \n",
            "3   53           Private  234721       11th              7   \n",
            "4   28           Private  338409  Bachelors             13   \n",
            "\n",
            "       marital-status         occupation   relationship   race     sex  \\\n",
            "0       Never-married       Adm-clerical  Not-in-family  White    Male   \n",
            "1  Married-civ-spouse    Exec-managerial        Husband  White    Male   \n",
            "2            Divorced  Handlers-cleaners  Not-in-family  White    Male   \n",
            "3  Married-civ-spouse  Handlers-cleaners        Husband  Black    Male   \n",
            "4  Married-civ-spouse     Prof-specialty           Wife  Black  Female   \n",
            "\n",
            "   capital-gain  capital-loss  hours-per-week native-country salary  \n",
            "0          2174             0              40  United-States  <=50K  \n",
            "1             0             0              13  United-States  <=50K  \n",
            "2             0             0              40  United-States  <=50K  \n",
            "3             0             0              40  United-States  <=50K  \n",
            "4             0             0              40           Cuba  <=50K  \n"
          ]
        }
      ],
      "source": [
        "print(df.head())"
      ]
    },
    {
      "cell_type": "code",
      "execution_count": 28,
      "metadata": {
        "colab": {
          "base_uri": "https://localhost:8080/"
        },
        "id": "VcnWRGSIoZOy",
        "outputId": "a8ba3484-177e-4af2-80d5-f10a5b637118"
      },
      "outputs": [
        {
          "name": "stdout",
          "output_type": "stream",
          "text": [
            "       age  workclass  fnlwgt     education  education-num  \\\n",
            "29820   48  Local-gov  127921     Bachelors             13   \n",
            "29821   32    Private   42617  Some-college             10   \n",
            "29822   47  Local-gov  191389       HS-grad              9   \n",
            "29823   38    Private  187983   Prof-school             15   \n",
            "29824   18    Private  215110       HS-grad              9   \n",
            "\n",
            "           marital-status         occupation   relationship   race     sex  \\\n",
            "29820  Married-civ-spouse     Prof-specialty        Husband  White    Male   \n",
            "29821            Divorced     Prof-specialty  Not-in-family  White  Female   \n",
            "29822            Divorced       Adm-clerical      Unmarried  White  Female   \n",
            "29823  Married-civ-spouse              Sales           Wife  White  Female   \n",
            "29824       Never-married  Handlers-cleaners      Own-child  Black    Male   \n",
            "\n",
            "       capital-gain  capital-loss  hours-per-week native-country salary  \n",
            "29820             0             0              40  United-States  <=50K  \n",
            "29821             0             0              30  United-States  <=50K  \n",
            "29822             0             0              35  United-States  <=50K  \n",
            "29823             0             0              40  United-States  <=50K  \n",
            "29824             0             0              40  United-States  <=50K  \n"
          ]
        }
      ],
      "source": [
        "print(df.tail())"
      ]
    },
    {
      "attachments": {},
      "cell_type": "markdown",
      "metadata": {
        "id": "GI3LDCyJomaK"
      },
      "source": [
        "``describe``:<br/>\n",
        "this method gives general information about each numerical column, namely:\n",
        "<ol>\n",
        "<li> count: number of not Nan values</li>\n",
        "<li> mean: mean of each column</li>\n",
        "<li> std: standard deviation of each column</li>\n",
        "<li> 25%, 50%, 75%: x% percentile of the column</li>\n",
        "<li> max: maximum value of each column</li>\n",
        "</ol>"
      ]
    },
    {
      "cell_type": "code",
      "execution_count": 29,
      "metadata": {
        "colab": {
          "base_uri": "https://localhost:8080/"
        },
        "id": "lHM2OQTjol-n",
        "outputId": "1de52389-a60f-4959-cc3c-3352bfa1b471"
      },
      "outputs": [
        {
          "name": "stdout",
          "output_type": "stream",
          "text": [
            "                age        fnlwgt  education-num  capital-gain  capital-loss  \\\n",
            "count  29825.000000  2.982500e+04   29825.000000  29825.000000  29825.000000   \n",
            "mean      38.581425  1.897389e+05      10.079229   1094.586052     86.476513   \n",
            "std       13.652005  1.053738e+05       2.571678   7485.908646    401.195078   \n",
            "min       17.000000  1.228500e+04       1.000000      0.000000      0.000000   \n",
            "25%       28.000000  1.178490e+05       9.000000      0.000000      0.000000   \n",
            "50%       37.000000  1.785170e+05      10.000000      0.000000      0.000000   \n",
            "75%       48.000000  2.368790e+05      12.000000      0.000000      0.000000   \n",
            "max       90.000000  1.484705e+06      16.000000  99999.000000   4356.000000   \n",
            "\n",
            "       hours-per-week  \n",
            "count    29825.000000  \n",
            "mean        40.434334  \n",
            "std         12.308174  \n",
            "min          1.000000  \n",
            "25%         40.000000  \n",
            "50%         40.000000  \n",
            "75%         45.000000  \n",
            "max         99.000000  \n"
          ]
        }
      ],
      "source": [
        "print(df.describe())"
      ]
    },
    {
      "attachments": {},
      "cell_type": "markdown",
      "metadata": {},
      "source": [
        "2 -<br/>\n",
        "first I use select_dtypes to choose the columns which should be label encoded and then I use cat.codes \n",
        "note: i use dropna() so it wont replace the not existing values with indexes"
      ]
    },
    {
      "cell_type": "code",
      "execution_count": 30,
      "metadata": {},
      "outputs": [
        {
          "name": "stdout",
          "output_type": "stream",
          "text": [
            "<class 'pandas.core.frame.DataFrame'>\n",
            "RangeIndex: 29825 entries, 0 to 29824\n",
            "Data columns (total 15 columns):\n",
            " #   Column          Non-Null Count  Dtype  \n",
            "---  ------          --------------  -----  \n",
            " 0   age             29825 non-null  int64  \n",
            " 1   workclass       28154 non-null  float64\n",
            " 2   fnlwgt          29825 non-null  int64  \n",
            " 3   education       29825 non-null  int8   \n",
            " 4   education-num   29825 non-null  int64  \n",
            " 5   marital-status  29825 non-null  int8   \n",
            " 6   occupation      28149 non-null  float64\n",
            " 7   relationship    29825 non-null  int8   \n",
            " 8   race            29825 non-null  int8   \n",
            " 9   sex             29825 non-null  int8   \n",
            " 10  capital-gain    29825 non-null  int64  \n",
            " 11  capital-loss    29825 non-null  int64  \n",
            " 12  hours-per-week  29825 non-null  int64  \n",
            " 13  native-country  29288 non-null  float64\n",
            " 14  salary          29825 non-null  int8   \n",
            "dtypes: float64(3), int64(6), int8(6)\n",
            "memory usage: 2.2 MB\n",
            "None\n"
          ]
        }
      ],
      "source": [
        "for column in df.select_dtypes(\"object\").columns:\n",
        "    df[column] = df[column].astype(\"category\").dropna().cat.codes\n",
        "\n",
        "print(df.info())"
      ]
    },
    {
      "attachments": {},
      "cell_type": "markdown",
      "metadata": {},
      "source": [
        "now we can see for example that for sex column each Male is replaces with 1 and Female is replaced with 0"
      ]
    },
    {
      "cell_type": "code",
      "execution_count": 31,
      "metadata": {},
      "outputs": [
        {
          "data": {
            "text/html": [
              "<div>\n",
              "<style scoped>\n",
              "    .dataframe tbody tr th:only-of-type {\n",
              "        vertical-align: middle;\n",
              "    }\n",
              "\n",
              "    .dataframe tbody tr th {\n",
              "        vertical-align: top;\n",
              "    }\n",
              "\n",
              "    .dataframe thead th {\n",
              "        text-align: right;\n",
              "    }\n",
              "</style>\n",
              "<table border=\"1\" class=\"dataframe\">\n",
              "  <thead>\n",
              "    <tr style=\"text-align: right;\">\n",
              "      <th></th>\n",
              "      <th>age</th>\n",
              "      <th>workclass</th>\n",
              "      <th>fnlwgt</th>\n",
              "      <th>education</th>\n",
              "      <th>education-num</th>\n",
              "      <th>marital-status</th>\n",
              "      <th>occupation</th>\n",
              "      <th>relationship</th>\n",
              "      <th>race</th>\n",
              "      <th>sex</th>\n",
              "      <th>capital-gain</th>\n",
              "      <th>capital-loss</th>\n",
              "      <th>hours-per-week</th>\n",
              "      <th>native-country</th>\n",
              "      <th>salary</th>\n",
              "    </tr>\n",
              "  </thead>\n",
              "  <tbody>\n",
              "    <tr>\n",
              "      <th>0</th>\n",
              "      <td>39</td>\n",
              "      <td>6.0</td>\n",
              "      <td>77516</td>\n",
              "      <td>9</td>\n",
              "      <td>13</td>\n",
              "      <td>4</td>\n",
              "      <td>0.0</td>\n",
              "      <td>1</td>\n",
              "      <td>4</td>\n",
              "      <td>1</td>\n",
              "      <td>2174</td>\n",
              "      <td>0</td>\n",
              "      <td>40</td>\n",
              "      <td>38.0</td>\n",
              "      <td>0</td>\n",
              "    </tr>\n",
              "    <tr>\n",
              "      <th>1</th>\n",
              "      <td>50</td>\n",
              "      <td>5.0</td>\n",
              "      <td>83311</td>\n",
              "      <td>9</td>\n",
              "      <td>13</td>\n",
              "      <td>2</td>\n",
              "      <td>3.0</td>\n",
              "      <td>0</td>\n",
              "      <td>4</td>\n",
              "      <td>1</td>\n",
              "      <td>0</td>\n",
              "      <td>0</td>\n",
              "      <td>13</td>\n",
              "      <td>38.0</td>\n",
              "      <td>0</td>\n",
              "    </tr>\n",
              "    <tr>\n",
              "      <th>2</th>\n",
              "      <td>38</td>\n",
              "      <td>3.0</td>\n",
              "      <td>215646</td>\n",
              "      <td>11</td>\n",
              "      <td>9</td>\n",
              "      <td>0</td>\n",
              "      <td>5.0</td>\n",
              "      <td>1</td>\n",
              "      <td>4</td>\n",
              "      <td>1</td>\n",
              "      <td>0</td>\n",
              "      <td>0</td>\n",
              "      <td>40</td>\n",
              "      <td>38.0</td>\n",
              "      <td>0</td>\n",
              "    </tr>\n",
              "    <tr>\n",
              "      <th>3</th>\n",
              "      <td>53</td>\n",
              "      <td>3.0</td>\n",
              "      <td>234721</td>\n",
              "      <td>1</td>\n",
              "      <td>7</td>\n",
              "      <td>2</td>\n",
              "      <td>5.0</td>\n",
              "      <td>0</td>\n",
              "      <td>2</td>\n",
              "      <td>1</td>\n",
              "      <td>0</td>\n",
              "      <td>0</td>\n",
              "      <td>40</td>\n",
              "      <td>38.0</td>\n",
              "      <td>0</td>\n",
              "    </tr>\n",
              "    <tr>\n",
              "      <th>4</th>\n",
              "      <td>28</td>\n",
              "      <td>3.0</td>\n",
              "      <td>338409</td>\n",
              "      <td>9</td>\n",
              "      <td>13</td>\n",
              "      <td>2</td>\n",
              "      <td>9.0</td>\n",
              "      <td>5</td>\n",
              "      <td>2</td>\n",
              "      <td>0</td>\n",
              "      <td>0</td>\n",
              "      <td>0</td>\n",
              "      <td>40</td>\n",
              "      <td>4.0</td>\n",
              "      <td>0</td>\n",
              "    </tr>\n",
              "  </tbody>\n",
              "</table>\n",
              "</div>"
            ],
            "text/plain": [
              "   age  workclass  fnlwgt  education  education-num  marital-status  \\\n",
              "0   39        6.0   77516          9             13               4   \n",
              "1   50        5.0   83311          9             13               2   \n",
              "2   38        3.0  215646         11              9               0   \n",
              "3   53        3.0  234721          1              7               2   \n",
              "4   28        3.0  338409          9             13               2   \n",
              "\n",
              "   occupation  relationship  race  sex  capital-gain  capital-loss  \\\n",
              "0         0.0             1     4    1          2174             0   \n",
              "1         3.0             0     4    1             0             0   \n",
              "2         5.0             1     4    1             0             0   \n",
              "3         5.0             0     2    1             0             0   \n",
              "4         9.0             5     2    0             0             0   \n",
              "\n",
              "   hours-per-week  native-country  salary  \n",
              "0              40            38.0       0  \n",
              "1              13            38.0       0  \n",
              "2              40            38.0       0  \n",
              "3              40            38.0       0  \n",
              "4              40             4.0       0  "
            ]
          },
          "execution_count": 31,
          "metadata": {},
          "output_type": "execute_result"
        }
      ],
      "source": [
        "df.head()"
      ]
    },
    {
      "attachments": {},
      "cell_type": "markdown",
      "metadata": {},
      "source": [
        "3 - <br/>\n",
        "now we should see percentage of NaN values in each column"
      ]
    },
    {
      "cell_type": "code",
      "execution_count": 32,
      "metadata": {},
      "outputs": [
        {
          "data": {
            "text/plain": [
              "age               0.000000\n",
              "workclass         5.602682\n",
              "fnlwgt            0.000000\n",
              "education         0.000000\n",
              "education-num     0.000000\n",
              "marital-status    0.000000\n",
              "occupation        5.619447\n",
              "relationship      0.000000\n",
              "race              0.000000\n",
              "sex               0.000000\n",
              "capital-gain      0.000000\n",
              "capital-loss      0.000000\n",
              "hours-per-week    0.000000\n",
              "native-country    1.800503\n",
              "salary            0.000000\n",
              "dtype: float64"
            ]
          },
          "execution_count": 32,
          "metadata": {},
          "output_type": "execute_result"
        }
      ],
      "source": [
        "df.isnull().sum() * 100 / len(df)"
      ]
    },
    {
      "attachments": {},
      "cell_type": "markdown",
      "metadata": {},
      "source": [
        "due to high percentage of Nan in workclass and occupation column I will delete these two and replace NaN values in native-country with the median"
      ]
    },
    {
      "cell_type": "code",
      "execution_count": 33,
      "metadata": {},
      "outputs": [],
      "source": [
        "df = df.drop(\"workclass\", axis = 1).drop(\"occupation\", axis = 1)\n",
        "df[\"native-country\"].fillna(df[\"native-country\"].median(), inplace = True)"
      ]
    },
    {
      "attachments": {},
      "cell_type": "markdown",
      "metadata": {},
      "source": [
        "now we can see that there is no Nan"
      ]
    },
    {
      "cell_type": "code",
      "execution_count": 34,
      "metadata": {},
      "outputs": [
        {
          "data": {
            "text/plain": [
              "age               0.0\n",
              "fnlwgt            0.0\n",
              "education         0.0\n",
              "education-num     0.0\n",
              "marital-status    0.0\n",
              "relationship      0.0\n",
              "race              0.0\n",
              "sex               0.0\n",
              "capital-gain      0.0\n",
              "capital-loss      0.0\n",
              "hours-per-week    0.0\n",
              "native-country    0.0\n",
              "salary            0.0\n",
              "dtype: float64"
            ]
          },
          "execution_count": 34,
          "metadata": {},
          "output_type": "execute_result"
        }
      ],
      "source": [
        "df.isnull().sum() * 100 / len(df)"
      ]
    },
    {
      "attachments": {},
      "cell_type": "markdown",
      "metadata": {},
      "source": [
        "an alternative way to handle Nan values can be to replace values with mean which has it's own advantages and disadvantages:\n",
        "<dl>\n",
        "  <dt style=\"color: green;\">advantages</dt>\n",
        "  <dd>- it's convenient and easy</dd>\n",
        "  <dd>- it doesn't deviate datasets</dd>\n",
        "  <dt style=\"color: red;\">disadvantages</dt>\n",
        "  <dd>- causes the std to be underestimated, may also obscure important features of the population from which the data were sampled</dd>\n",
        "  <dd>- the new data doesn't make sense, for instance the mean of some integers may be a float number but we haven't assigned any meaning to float numbers</dd>\n",
        "  <dd>- it may corrupt the correlation between features</dd>\n",
        "</dl>"
      ]
    },
    {
      "attachments": {},
      "cell_type": "markdown",
      "metadata": {},
      "source": [
        "4 - <br/>\n",
        "first we have to find columns which have too many unique values so it wont help our prediction<br/>\n",
        "in this project I consider the number of unique values to be at least half to be considered as column with unique values<br/>"
      ]
    },
    {
      "cell_type": "code",
      "execution_count": 35,
      "metadata": {},
      "outputs": [
        {
          "data": {
            "text/plain": [
              "Index(['fnlwgt'], dtype='object')"
            ]
          },
          "execution_count": 35,
          "metadata": {},
          "output_type": "execute_result"
        }
      ],
      "source": [
        "df.columns[df.nunique() >= len(df) / 2]"
      ]
    },
    {
      "attachments": {},
      "cell_type": "markdown",
      "metadata": {},
      "source": [
        "so we have to drop fnlwgt column"
      ]
    },
    {
      "cell_type": "code",
      "execution_count": 36,
      "metadata": {},
      "outputs": [],
      "source": [
        "df = df.drop(\"fnlwgt\", axis = 1)"
      ]
    },
    {
      "cell_type": "code",
      "execution_count": 37,
      "metadata": {},
      "outputs": [
        {
          "name": "stdout",
          "output_type": "stream",
          "text": [
            "<class 'pandas.core.frame.DataFrame'>\n",
            "RangeIndex: 29825 entries, 0 to 29824\n",
            "Data columns (total 12 columns):\n",
            " #   Column          Non-Null Count  Dtype  \n",
            "---  ------          --------------  -----  \n",
            " 0   age             29825 non-null  int64  \n",
            " 1   education       29825 non-null  int8   \n",
            " 2   education-num   29825 non-null  int64  \n",
            " 3   marital-status  29825 non-null  int8   \n",
            " 4   relationship    29825 non-null  int8   \n",
            " 5   race            29825 non-null  int8   \n",
            " 6   sex             29825 non-null  int8   \n",
            " 7   capital-gain    29825 non-null  int64  \n",
            " 8   capital-loss    29825 non-null  int64  \n",
            " 9   hours-per-week  29825 non-null  int64  \n",
            " 10  native-country  29825 non-null  float64\n",
            " 11  salary          29825 non-null  int8   \n",
            "dtypes: float64(1), int64(5), int8(6)\n",
            "memory usage: 1.5 MB\n"
          ]
        }
      ],
      "source": [
        "df.info()"
      ]
    },
    {
      "cell_type": "code",
      "execution_count": 38,
      "metadata": {},
      "outputs": [
        {
          "data": {
            "text/plain": [
              "age                72\n",
              "education          16\n",
              "education-num      16\n",
              "marital-status      7\n",
              "relationship        6\n",
              "race                5\n",
              "sex                 2\n",
              "capital-gain      118\n",
              "capital-loss       91\n",
              "hours-per-week     94\n",
              "native-country     41\n",
              "salary              2\n",
              "dtype: int64"
            ]
          },
          "execution_count": 38,
          "metadata": {},
          "output_type": "execute_result"
        }
      ],
      "source": [
        "df.nunique()"
      ]
    },
    {
      "attachments": {},
      "cell_type": "markdown",
      "metadata": {},
      "source": [
        "5 - <br/>\n",
        "number of women"
      ]
    },
    {
      "cell_type": "code",
      "execution_count": 45,
      "metadata": {},
      "outputs": [
        {
          "data": {
            "text/plain": [
              "9869"
            ]
          },
          "execution_count": 45,
          "metadata": {},
          "output_type": "execute_result"
        }
      ],
      "source": [
        "len(df_backup.loc[df_backup[\"sex\"] == \"Female\"])"
      ]
    },
    {
      "attachments": {},
      "cell_type": "markdown",
      "metadata": {},
      "source": [
        "number of men"
      ]
    },
    {
      "cell_type": "code",
      "execution_count": 46,
      "metadata": {},
      "outputs": [
        {
          "data": {
            "text/plain": [
              "19956"
            ]
          },
          "execution_count": 46,
          "metadata": {},
          "output_type": "execute_result"
        }
      ],
      "source": [
        "len(df_backup.loc[df_backup[\"sex\"] == \"Male\"])"
      ]
    },
    {
      "attachments": {},
      "cell_type": "markdown",
      "metadata": {},
      "source": [
        "number of married men"
      ]
    },
    {
      "cell_type": "code",
      "execution_count": 49,
      "metadata": {},
      "outputs": [
        {
          "data": {
            "text/plain": [
              "12056"
            ]
          },
          "execution_count": 49,
          "metadata": {},
          "output_type": "execute_result"
        }
      ],
      "source": [
        "husbands = (df_backup[\"relationship\"] == \"Husband\")\n",
        "men = (df_backup[\"sex\"] == \"Male\")\n",
        "len(df_backup.loc[husbands & men])"
      ]
    },
    {
      "attachments": {},
      "cell_type": "markdown",
      "metadata": {},
      "source": [
        "6 - "
      ]
    },
    {
      "cell_type": "code",
      "execution_count": 51,
      "metadata": {},
      "outputs": [
        {
          "data": {
            "text/plain": [
              "9079"
            ]
          },
          "execution_count": 51,
          "metadata": {},
          "output_type": "execute_result"
        }
      ],
      "source": [
        "age = (df_backup[\"age\"] > 30)\n",
        "workclass = (df_backup[\"workclass\"] == \"Private\")\n",
        "len(df_backup.loc[men & age & workclass])"
      ]
    }
  ],
  "metadata": {
    "colab": {
      "provenance": []
    },
    "kernelspec": {
      "display_name": "Python 3",
      "language": "python",
      "name": "python3"
    },
    "language_info": {
      "codemirror_mode": {
        "name": "ipython",
        "version": 3
      },
      "file_extension": ".py",
      "mimetype": "text/x-python",
      "name": "python",
      "nbconvert_exporter": "python",
      "pygments_lexer": "ipython3",
      "version": "3.11.0"
    },
    "vscode": {
      "interpreter": {
        "hash": "77a8648c8b76f92c60ec4d753adc62953c2df2d7ca5e0ccce83b0a524d4582df"
      }
    }
  },
  "nbformat": 4,
  "nbformat_minor": 0
}
