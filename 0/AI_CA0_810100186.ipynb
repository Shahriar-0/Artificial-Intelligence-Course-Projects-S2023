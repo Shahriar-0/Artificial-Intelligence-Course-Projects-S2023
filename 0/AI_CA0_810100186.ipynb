{
  "cells": [
    {
      "cell_type": "code",
      "execution_count": 3,
      "metadata": {
        "id": "p4gl7xPdimK1"
      },
      "outputs": [],
      "source": [
        "import numpy as np\n",
        "import matplotlib as plt\n",
        "import pandas as pd\n",
        "import sklearn"
      ]
    },
    {
      "cell_type": "markdown",
      "metadata": {
        "id": "nqH_42oknWuR"
      },
      "source": [
        "1-\n"
      ]
    },
    {
      "cell_type": "code",
      "execution_count": 4,
      "metadata": {
        "id": "ENqvKt22nckU"
      },
      "outputs": [],
      "source": [
        "data = pd.read_csv('train.csv')"
      ]
    },
    {
      "attachments": {},
      "cell_type": "markdown",
      "metadata": {
        "id": "JRL30-F-n-oM"
      },
      "source": [
        "تابع زیر به ما اطلاعات کلی دیتا را میدهد"
      ]
    },
    {
      "cell_type": "code",
      "execution_count": 5,
      "metadata": {
        "colab": {
          "base_uri": "https://localhost:8080/"
        },
        "id": "-_pLe66rn1ch",
        "outputId": "ec2cb382-4fbf-448d-f19e-7f4204df3fc5"
      },
      "outputs": [
        {
          "name": "stdout",
          "output_type": "stream",
          "text": [
            "<class 'pandas.core.frame.DataFrame'>\n",
            "RangeIndex: 29825 entries, 0 to 29824\n",
            "Data columns (total 15 columns):\n",
            " #   Column          Non-Null Count  Dtype \n",
            "---  ------          --------------  ----- \n",
            " 0   age             29825 non-null  int64 \n",
            " 1   workclass       28154 non-null  object\n",
            " 2   fnlwgt          29825 non-null  int64 \n",
            " 3   education       29825 non-null  object\n",
            " 4   education-num   29825 non-null  int64 \n",
            " 5   marital-status  29825 non-null  object\n",
            " 6   occupation      28149 non-null  object\n",
            " 7   relationship    29825 non-null  object\n",
            " 8   race            29825 non-null  object\n",
            " 9   sex             29825 non-null  object\n",
            " 10  capital-gain    29825 non-null  int64 \n",
            " 11  capital-loss    29825 non-null  int64 \n",
            " 12  hours-per-week  29825 non-null  int64 \n",
            " 13  native-country  29288 non-null  object\n",
            " 14  salary          29825 non-null  object\n",
            "dtypes: int64(6), object(9)\n",
            "memory usage: 3.4+ MB\n",
            "None\n"
          ]
        }
      ],
      "source": [
        "print(data.info())"
      ]
    },
    {
      "cell_type": "markdown",
      "metadata": {
        "id": "dO_j0N8sob3N"
      },
      "source": [
        "توابع زیر به ترتیب ابتدا و انتهای دیتا را نشان میدهند"
      ]
    },
    {
      "cell_type": "code",
      "execution_count": null,
      "metadata": {
        "colab": {
          "base_uri": "https://localhost:8080/"
        },
        "id": "aHAmvGJ6nv0_",
        "outputId": "0c25d13a-e029-4a9b-a0b1-88e99526a750"
      },
      "outputs": [
        {
          "name": "stdout",
          "output_type": "stream",
          "text": [
            "   age         workclass  fnlwgt  education  education-num  \\\n",
            "0   39         State-gov   77516  Bachelors             13   \n",
            "1   50  Self-emp-not-inc   83311  Bachelors             13   \n",
            "2   38           Private  215646    HS-grad              9   \n",
            "3   53           Private  234721       11th              7   \n",
            "4   28           Private  338409  Bachelors             13   \n",
            "\n",
            "       marital-status         occupation   relationship   race     sex  \\\n",
            "0       Never-married       Adm-clerical  Not-in-family  White    Male   \n",
            "1  Married-civ-spouse    Exec-managerial        Husband  White    Male   \n",
            "2            Divorced  Handlers-cleaners  Not-in-family  White    Male   \n",
            "3  Married-civ-spouse  Handlers-cleaners        Husband  Black    Male   \n",
            "4  Married-civ-spouse     Prof-specialty           Wife  Black  Female   \n",
            "\n",
            "   capital-gain  capital-loss  hours-per-week native-country salary  \n",
            "0          2174             0              40  United-States  <=50K  \n",
            "1             0             0              13  United-States  <=50K  \n",
            "2             0             0              40  United-States  <=50K  \n",
            "3             0             0              40  United-States  <=50K  \n",
            "4             0             0              40           Cuba  <=50K  \n"
          ]
        }
      ],
      "source": [
        "print(data.head())"
      ]
    },
    {
      "cell_type": "code",
      "execution_count": null,
      "metadata": {
        "colab": {
          "base_uri": "https://localhost:8080/"
        },
        "id": "VcnWRGSIoZOy",
        "outputId": "a8ba3484-177e-4af2-80d5-f10a5b637118"
      },
      "outputs": [
        {
          "name": "stdout",
          "output_type": "stream",
          "text": [
            "       age  workclass  fnlwgt     education  education-num  \\\n",
            "29820   48  Local-gov  127921     Bachelors             13   \n",
            "29821   32    Private   42617  Some-college             10   \n",
            "29822   47  Local-gov  191389       HS-grad              9   \n",
            "29823   38    Private  187983   Prof-school             15   \n",
            "29824   18    Private  215110       HS-grad              9   \n",
            "\n",
            "           marital-status         occupation   relationship   race     sex  \\\n",
            "29820  Married-civ-spouse     Prof-specialty        Husband  White    Male   \n",
            "29821            Divorced     Prof-specialty  Not-in-family  White  Female   \n",
            "29822            Divorced       Adm-clerical      Unmarried  White  Female   \n",
            "29823  Married-civ-spouse              Sales           Wife  White  Female   \n",
            "29824       Never-married  Handlers-cleaners      Own-child  Black    Male   \n",
            "\n",
            "       capital-gain  capital-loss  hours-per-week native-country salary  \n",
            "29820             0             0              40  United-States  <=50K  \n",
            "29821             0             0              30  United-States  <=50K  \n",
            "29822             0             0              35  United-States  <=50K  \n",
            "29823             0             0              40  United-States  <=50K  \n",
            "29824             0             0              40  United-States  <=50K  \n"
          ]
        }
      ],
      "source": [
        "print(data.tail())"
      ]
    },
    {
      "cell_type": "markdown",
      "metadata": {
        "id": "GI3LDCyJomaK"
      },
      "source": [
        "تابع زیر نیز اطلاعات کلی هر سطر مانند میانگین واریانس و غیره را میدهد"
      ]
    },
    {
      "cell_type": "code",
      "execution_count": null,
      "metadata": {
        "colab": {
          "base_uri": "https://localhost:8080/"
        },
        "id": "lHM2OQTjol-n",
        "outputId": "1de52389-a60f-4959-cc3c-3352bfa1b471"
      },
      "outputs": [
        {
          "name": "stdout",
          "output_type": "stream",
          "text": [
            "                age        fnlwgt  education-num  capital-gain  capital-loss  \\\n",
            "count  29825.000000  2.982500e+04   29825.000000  29825.000000  29825.000000   \n",
            "mean      38.581425  1.897389e+05      10.079229   1094.586052     86.476513   \n",
            "std       13.652005  1.053738e+05       2.571678   7485.908646    401.195078   \n",
            "min       17.000000  1.228500e+04       1.000000      0.000000      0.000000   \n",
            "25%       28.000000  1.178490e+05       9.000000      0.000000      0.000000   \n",
            "50%       37.000000  1.785170e+05      10.000000      0.000000      0.000000   \n",
            "75%       48.000000  2.368790e+05      12.000000      0.000000      0.000000   \n",
            "max       90.000000  1.484705e+06      16.000000  99999.000000   4356.000000   \n",
            "\n",
            "       hours-per-week  \n",
            "count    29825.000000  \n",
            "mean        40.434334  \n",
            "std         12.308174  \n",
            "min          1.000000  \n",
            "25%         40.000000  \n",
            "50%         40.000000  \n",
            "75%         45.000000  \n",
            "max         99.000000  \n"
          ]
        }
      ],
      "source": [
        "print(data.describe())"
      ]
    },
    {
      "cell_type": "code",
      "execution_count": 11,
      "metadata": {},
      "outputs": [
        {
          "name": "stdout",
          "output_type": "stream",
          "text": [
            "   age         workclass  fnlwgt  education  education-num  \\\n",
            "0   39         State-gov   77516  Bachelors             13   \n",
            "1   50  Self-emp-not-inc   83311  Bachelors             13   \n",
            "2   38           Private  215646    HS-grad              9   \n",
            "3   53           Private  234721       11th              7   \n",
            "4   28           Private  338409  Bachelors             13   \n",
            "\n",
            "       marital-status         occupation   relationship   race  sex  \\\n",
            "0       Never-married       Adm-clerical  Not-in-family  White    1   \n",
            "1  Married-civ-spouse    Exec-managerial        Husband  White    1   \n",
            "2            Divorced  Handlers-cleaners  Not-in-family  White    1   \n",
            "3  Married-civ-spouse  Handlers-cleaners        Husband  Black    1   \n",
            "4  Married-civ-spouse     Prof-specialty           Wife  Black    0   \n",
            "\n",
            "   capital-gain  capital-loss  hours-per-week native-country salary  \n",
            "0          2174             0              40  United-States  <=50K  \n",
            "1             0             0              13  United-States  <=50K  \n",
            "2             0             0              40  United-States  <=50K  \n",
            "3             0             0              40  United-States  <=50K  \n",
            "4             0             0              40           Cuba  <=50K  \n"
          ]
        }
      ],
      "source": [
        "data.sex = data.sex.astype('category').cat.codes\n",
        "print(data.head())"
      ]
    }
  ],
  "metadata": {
    "colab": {
      "provenance": []
    },
    "kernelspec": {
      "display_name": "Python 3",
      "language": "python",
      "name": "python3"
    },
    "language_info": {
      "codemirror_mode": {
        "name": "ipython",
        "version": 3
      },
      "file_extension": ".py",
      "mimetype": "text/x-python",
      "name": "python",
      "nbconvert_exporter": "python",
      "pygments_lexer": "ipython3",
      "version": "3.11.0"
    },
    "vscode": {
      "interpreter": {
        "hash": "77a8648c8b76f92c60ec4d753adc62953c2df2d7ca5e0ccce83b0a524d4582df"
      }
    }
  },
  "nbformat": 4,
  "nbformat_minor": 0
}
